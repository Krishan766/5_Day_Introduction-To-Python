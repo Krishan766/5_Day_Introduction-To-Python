{
 "cells": [
  {
   "cell_type": "markdown",
   "id": "e743a7fe",
   "metadata": {},
   "source": [
    "# INTRODUCTION TO PYTHON"
   ]
  },
  {
   "cell_type": "markdown",
   "id": "e909e097",
   "metadata": {},
   "source": [
    "## DATA TYPES"
   ]
  },
  {
   "cell_type": "markdown",
   "id": "6dac832f",
   "metadata": {},
   "source": [
    "### NUMERIC DATA TYPES"
   ]
  },
  {
   "cell_type": "markdown",
   "id": "d84c4be7",
   "metadata": {},
   "source": [
    "#### Integer Data types"
   ]
  },
  {
   "cell_type": "markdown",
   "id": "d663c91b",
   "metadata": {},
   "source": [
    "we are learning python in juypter noteook"
   ]
  },
  {
   "cell_type": "code",
   "execution_count": 3,
   "id": "a723b875",
   "metadata": {},
   "outputs": [],
   "source": [
    "# comment"
   ]
  },
  {
   "cell_type": "code",
   "execution_count": 2,
   "id": "446ec0e1",
   "metadata": {},
   "outputs": [
    {
     "data": {
      "text/plain": [
       "'D:\\\\ITP bridge course july 2023'"
      ]
     },
     "execution_count": 2,
     "metadata": {},
     "output_type": "execute_result"
    }
   ],
   "source": [
    "pwd  # Give present working path (Address)"
   ]
  },
  {
   "cell_type": "markdown",
   "id": "6e527ff4",
   "metadata": {},
   "source": [
    "## DATA TYPES"
   ]
  },
  {
   "cell_type": "code",
   "execution_count": 15,
   "id": "d7c1f758",
   "metadata": {},
   "outputs": [],
   "source": [
    "a = 56"
   ]
  },
  {
   "cell_type": "code",
   "execution_count": 16,
   "id": "e940de55",
   "metadata": {},
   "outputs": [
    {
     "data": {
      "text/plain": [
       "int"
      ]
     },
     "execution_count": 16,
     "metadata": {},
     "output_type": "execute_result"
    }
   ],
   "source": [
    "type(56) "
   ]
  },
  {
   "cell_type": "code",
   "execution_count": 8,
   "id": "eb0c965d",
   "metadata": {},
   "outputs": [
    {
     "data": {
      "text/plain": [
       "complex"
      ]
     },
     "execution_count": 8,
     "metadata": {},
     "output_type": "execute_result"
    }
   ],
   "source": [
    "type(3 + 3J)"
   ]
  },
  {
   "cell_type": "code",
   "execution_count": 11,
   "id": "32ae1f42",
   "metadata": {},
   "outputs": [
    {
     "data": {
      "text/plain": [
       "float"
      ]
     },
     "execution_count": 11,
     "metadata": {},
     "output_type": "execute_result"
    }
   ],
   "source": [
    "type(3.4)"
   ]
  },
  {
   "cell_type": "code",
   "execution_count": 17,
   "id": "a9b9c0c4",
   "metadata": {},
   "outputs": [
    {
     "data": {
      "text/plain": [
       "int"
      ]
     },
     "execution_count": 17,
     "metadata": {},
     "output_type": "execute_result"
    }
   ],
   "source": [
    "type(a)"
   ]
  },
  {
   "cell_type": "code",
   "execution_count": 24,
   "id": "4442bc14",
   "metadata": {},
   "outputs": [
    {
     "data": {
      "text/plain": [
       "'Krishan'"
      ]
     },
     "execution_count": 24,
     "metadata": {},
     "output_type": "execute_result"
    }
   ],
   "source": [
    "'Krishan'   # String are collection of character defined in inverted commas"
   ]
  },
  {
   "cell_type": "code",
   "execution_count": 25,
   "id": "edbdb5b6",
   "metadata": {},
   "outputs": [
    {
     "data": {
      "text/plain": [
       "str"
      ]
     },
     "execution_count": 25,
     "metadata": {},
     "output_type": "execute_result"
    }
   ],
   "source": [
    "type('Krishan')"
   ]
  },
  {
   "cell_type": "code",
   "execution_count": 26,
   "id": "aff77c4b",
   "metadata": {},
   "outputs": [
    {
     "data": {
      "text/plain": [
       "str"
      ]
     },
     "execution_count": 26,
     "metadata": {},
     "output_type": "execute_result"
    }
   ],
   "source": [
    "type('6262')  # Also string because of inverted commas"
   ]
  },
  {
   "cell_type": "code",
   "execution_count": 30,
   "id": "79436a0e",
   "metadata": {},
   "outputs": [
    {
     "data": {
      "text/plain": [
       "bool"
      ]
     },
     "execution_count": 30,
     "metadata": {},
     "output_type": "execute_result"
    }
   ],
   "source": [
    "type(False)"
   ]
  },
  {
   "cell_type": "code",
   "execution_count": 34,
   "id": "8b8a586d",
   "metadata": {},
   "outputs": [
    {
     "data": {
      "text/plain": [
       "NoneType"
      ]
     },
     "execution_count": 34,
     "metadata": {},
     "output_type": "execute_result"
    }
   ],
   "source": [
    "type(None)"
   ]
  },
  {
   "cell_type": "markdown",
   "id": "47c59a77",
   "metadata": {},
   "source": [
    "## Variables and Assingment Operator"
   ]
  },
  {
   "cell_type": "code",
   "execution_count": 3,
   "id": "91193b58",
   "metadata": {},
   "outputs": [],
   "source": [
    "# Variable are the containers which holds the value\n",
    "marks = 56.6 # marks is a variable, = is an assingment operator , 56.6 is a float value"
   ]
  },
  {
   "cell_type": "code",
   "execution_count": 4,
   "id": "ef775fa8",
   "metadata": {},
   "outputs": [
    {
     "data": {
      "text/plain": [
       "56.6"
      ]
     },
     "execution_count": 4,
     "metadata": {},
     "output_type": "execute_result"
    }
   ],
   "source": [
    "marks"
   ]
  },
  {
   "cell_type": "code",
   "execution_count": 6,
   "id": "7e52c2fc",
   "metadata": {},
   "outputs": [
    {
     "data": {
      "text/plain": [
       "float"
      ]
     },
     "execution_count": 6,
     "metadata": {},
     "output_type": "execute_result"
    }
   ],
   "source": [
    "type(marks)"
   ]
  },
  {
   "cell_type": "code",
   "execution_count": 8,
   "id": "5ff990f1",
   "metadata": {},
   "outputs": [
    {
     "data": {
      "text/plain": [
       "str"
      ]
     },
     "execution_count": 8,
     "metadata": {},
     "output_type": "execute_result"
    }
   ],
   "source": [
    "type('Krishan')"
   ]
  },
  {
   "cell_type": "code",
   "execution_count": null,
   "id": "4370de94",
   "metadata": {},
   "outputs": [],
   "source": [
    "# Q: Use type() to check the datatypes of the following values\n",
    "# 78.233    float\n",
    "# False     boolean\n",
    "# .0        float\n",
    "# -321      int\n",
    "# '892'     str\n",
    "# 'True'    str\n",
    "# 89.       float\n",
    "# 3-7j      complex\n",
    "# 0J        complex\n",
    "# None      none type    \n",
    "#'None'     str"
   ]
  },
  {
   "cell_type": "code",
   "execution_count": 38,
   "id": "632e8d22",
   "metadata": {},
   "outputs": [],
   "source": [
    "# Rules to define the variable name\n",
    "# It must be only alphabets of combination alphabets and number\n",
    "# It should not start from a number\n",
    "# There must be no spaces in variable names (use _ instead)\n",
    "# You must avoid the green letter words (reserved keywords)"
   ]
  },
  {
   "cell_type": "markdown",
   "id": "9cad4c7b",
   "metadata": {},
   "source": [
    "### Type Casting"
   ]
  },
  {
   "cell_type": "code",
   "execution_count": 42,
   "id": "75019ac1",
   "metadata": {},
   "outputs": [],
   "source": [
    "# Changing  datatype of a value\n",
    "# Implicit type casting: arithmatic calculation (+, -, *,/)\n",
    "# Explicit type casting: float(), int(), str(), bool (), complex ()"
   ]
  },
  {
   "cell_type": "code",
   "execution_count": 43,
   "id": "7146a9a6",
   "metadata": {},
   "outputs": [
    {
     "data": {
      "text/plain": [
       "67"
      ]
     },
     "execution_count": 43,
     "metadata": {},
     "output_type": "execute_result"
    }
   ],
   "source": [
    "67"
   ]
  },
  {
   "cell_type": "code",
   "execution_count": 45,
   "id": "e3089216",
   "metadata": {},
   "outputs": [
    {
     "data": {
      "text/plain": [
       "67.0"
      ]
     },
     "execution_count": 45,
     "metadata": {},
     "output_type": "execute_result"
    }
   ],
   "source": [
    "float(67) # int is converted into float"
   ]
  },
  {
   "cell_type": "code",
   "execution_count": 46,
   "id": "38626c3b",
   "metadata": {},
   "outputs": [
    {
     "data": {
      "text/plain": [
       "2"
      ]
     },
     "execution_count": 46,
     "metadata": {},
     "output_type": "execute_result"
    }
   ],
   "source": [
    "int(2.9999999999)"
   ]
  },
  {
   "cell_type": "code",
   "execution_count": 47,
   "id": "8df7bd9c",
   "metadata": {},
   "outputs": [
    {
     "data": {
      "text/plain": [
       "(2+0j)"
      ]
     },
     "execution_count": 47,
     "metadata": {},
     "output_type": "execute_result"
    }
   ],
   "source": [
    "complex(2)"
   ]
  },
  {
   "cell_type": "markdown",
   "id": "aa41b108",
   "metadata": {},
   "source": [
    "### print()"
   ]
  },
  {
   "cell_type": "code",
   "execution_count": 49,
   "id": "a47e5cf1",
   "metadata": {},
   "outputs": [
    {
     "data": {
      "text/plain": [
       "45"
      ]
     },
     "execution_count": 49,
     "metadata": {},
     "output_type": "execute_result"
    }
   ],
   "source": [
    "45"
   ]
  },
  {
   "cell_type": "code",
   "execution_count": 50,
   "id": "ca2fb6af",
   "metadata": {},
   "outputs": [
    {
     "data": {
      "text/plain": [
       "0.3"
      ]
     },
     "execution_count": 50,
     "metadata": {},
     "output_type": "execute_result"
    }
   ],
   "source": [
    "67\n",
    "56.32\n",
    "'Hello'\n",
    "0.3"
   ]
  },
  {
   "cell_type": "code",
   "execution_count": 51,
   "id": "e2895f56",
   "metadata": {},
   "outputs": [
    {
     "name": "stdout",
     "output_type": "stream",
     "text": [
      "45\n"
     ]
    }
   ],
   "source": [
    "print(45)"
   ]
  },
  {
   "cell_type": "code",
   "execution_count": 52,
   "id": "1ac935d8",
   "metadata": {},
   "outputs": [
    {
     "data": {
      "text/plain": [
       "'Great Learing'"
      ]
     },
     "execution_count": 52,
     "metadata": {},
     "output_type": "execute_result"
    }
   ],
   "source": [
    "'Great Learing'    # This is output"
   ]
  },
  {
   "cell_type": "code",
   "execution_count": 53,
   "id": "22357f34",
   "metadata": {},
   "outputs": [
    {
     "name": "stdout",
     "output_type": "stream",
     "text": [
      "Great Learing\n"
     ]
    }
   ],
   "source": [
    "print('Great Learing')     # This is display"
   ]
  },
  {
   "cell_type": "code",
   "execution_count": 55,
   "id": "ce38814f",
   "metadata": {},
   "outputs": [
    {
     "name": "stdout",
     "output_type": "stream",
     "text": [
      "Hello\n",
      "Bye\n"
     ]
    },
    {
     "data": {
      "text/plain": [
       "'Tata'"
      ]
     },
     "execution_count": 55,
     "metadata": {},
     "output_type": "execute_result"
    }
   ],
   "source": [
    "print('Hello')\n",
    "'My name'\n",
    "print('Bye')\n",
    "'Tata'"
   ]
  },
  {
   "cell_type": "code",
   "execution_count": 62,
   "id": "5b71d5c1",
   "metadata": {},
   "outputs": [
    {
     "name": "stdout",
     "output_type": "stream",
     "text": [
      "45 (56+4j) 3.55 Hello True\n"
     ]
    }
   ],
   "source": [
    "print(45, 56 + 4j, 3.55, 'Hello', True)"
   ]
  },
  {
   "cell_type": "code",
   "execution_count": 64,
   "id": "9b4fb63e",
   "metadata": {},
   "outputs": [
    {
     "name": "stdout",
     "output_type": "stream",
     "text": [
      "Krishan\n"
     ]
    },
    {
     "data": {
      "text/plain": [
       "'Naresh'"
      ]
     },
     "execution_count": 64,
     "metadata": {},
     "output_type": "execute_result"
    }
   ],
   "source": [
    "a = 'Krishan'\n",
    "print(a)\n",
    "a = 'Ankur'\n",
    "a = 'Naresh'\n",
    "a "
   ]
  },
  {
   "cell_type": "code",
   "execution_count": 65,
   "id": "0fe5ca0e",
   "metadata": {},
   "outputs": [
    {
     "data": {
      "text/plain": [
       "'Naresh'"
      ]
     },
     "execution_count": 65,
     "metadata": {},
     "output_type": "execute_result"
    }
   ],
   "source": [
    "a"
   ]
  },
  {
   "cell_type": "code",
   "execution_count": 66,
   "id": "4ce48bc1",
   "metadata": {
    "scrolled": true
   },
   "outputs": [
    {
     "name": "stdout",
     "output_type": "stream",
     "text": [
      "Hello My Friend\n"
     ]
    }
   ],
   "source": [
    "print('Hello', 'My', 'Friend')"
   ]
  },
  {
   "cell_type": "code",
   "execution_count": 67,
   "id": "68576388",
   "metadata": {},
   "outputs": [
    {
     "name": "stdout",
     "output_type": "stream",
     "text": [
      "Hello Dear\n",
      "Hello Dear\n",
      "Hello Dear\n"
     ]
    }
   ],
   "source": [
    "print('Hello Dear')\n",
    "print(\"Hello Dear\")\n",
    "print('''Hello Dear''')"
   ]
  },
  {
   "cell_type": "code",
   "execution_count": 71,
   "id": "6837d509",
   "metadata": {},
   "outputs": [
    {
     "name": "stdout",
     "output_type": "stream",
     "text": [
      "I'll be on leave\n"
     ]
    }
   ],
   "source": [
    "#print I'll be on leave\n",
    "print(\"I'll be on leave\")"
   ]
  },
  {
   "cell_type": "code",
   "execution_count": 73,
   "id": "24e3544a",
   "metadata": {},
   "outputs": [
    {
     "name": "stdout",
     "output_type": "stream",
     "text": [
      "He said \"not to do\"\n"
     ]
    }
   ],
   "source": [
    "# he said \"not to do\"\n",
    "print('He said \"not to do\"')"
   ]
  },
  {
   "cell_type": "code",
   "execution_count": 74,
   "id": "4b55b5c1",
   "metadata": {},
   "outputs": [
    {
     "name": "stdout",
     "output_type": "stream",
     "text": [
      "he said \"we shouldn't do it\"\n"
     ]
    }
   ],
   "source": [
    "print('''he said \"we shouldn't do it\"''')"
   ]
  },
  {
   "cell_type": "code",
   "execution_count": 75,
   "id": "9db61da9",
   "metadata": {},
   "outputs": [
    {
     "name": "stdout",
     "output_type": "stream",
     "text": [
      "Hello everyone, my name is krishan\n",
      "I am from Gurugram\n",
      "I am a software engineer\n"
     ]
    }
   ],
   "source": [
    "print('''Hello everyone, my name is krishan\n",
    "I am from Gurugram\n",
    "I am a software engineer''')"
   ]
  },
  {
   "cell_type": "code",
   "execution_count": 3,
   "id": "d410ba13",
   "metadata": {},
   "outputs": [
    {
     "name": "stdout",
     "output_type": "stream",
     "text": [
      "To,\n",
      "Krishan Kumar\n",
      "HNO. 160 \n",
      "Sector 46\n",
      "Gurguram Haryana 122003\n"
     ]
    }
   ],
   "source": [
    "print('''To,\n",
    "Krishan Kumar\n",
    "HNO. 160 \n",
    "Sector 46\n",
    "Gurguram Haryana 122003''')"
   ]
  },
  {
   "cell_type": "code",
   "execution_count": 4,
   "id": "6d5a3738",
   "metadata": {},
   "outputs": [],
   "source": [
    "a = 'Krishan'\n",
    "b = 22\n",
    "c = 90.6"
   ]
  },
  {
   "cell_type": "code",
   "execution_count": 84,
   "id": "dafba552",
   "metadata": {},
   "outputs": [
    {
     "name": "stdout",
     "output_type": "stream",
     "text": [
      "Name of candidate : Krishan\n",
      "Age of candidate : 22\n",
      "Marks of candidate : 90.6\n"
     ]
    }
   ],
   "source": [
    "print('Name of candidate :',a)\n",
    "print('Age of candidate :',b)\n",
    "print('Marks of candidate :',c)"
   ]
  },
  {
   "cell_type": "code",
   "execution_count": 5,
   "id": "9edb0c02",
   "metadata": {},
   "outputs": [
    {
     "name": "stdout",
     "output_type": "stream",
     "text": [
      "Hello, Krishan\n"
     ]
    }
   ],
   "source": [
    "name = 'Krishan'\n",
    "print('Hello,', name)"
   ]
  },
  {
   "cell_type": "code",
   "execution_count": 11,
   "id": "49579568",
   "metadata": {},
   "outputs": [
    {
     "name": "stdout",
     "output_type": "stream",
     "text": [
      "Please enter your name: Krishan\n",
      "Hello  Krishan\n"
     ]
    }
   ],
   "source": [
    "name = input('Please enter your name: ')\n",
    "print('Hello ', name)"
   ]
  },
  {
   "cell_type": "code",
   "execution_count": 12,
   "id": "8b7493ff",
   "metadata": {},
   "outputs": [
    {
     "data": {
      "text/plain": [
       "'Krishan'"
      ]
     },
     "execution_count": 12,
     "metadata": {},
     "output_type": "execute_result"
    }
   ],
   "source": [
    "name"
   ]
  },
  {
   "cell_type": "code",
   "execution_count": 16,
   "id": "31911845",
   "metadata": {},
   "outputs": [
    {
     "name": "stdout",
     "output_type": "stream",
     "text": [
      "Enter your age: 22\n"
     ]
    }
   ],
   "source": [
    "age = int(input('Enter your age: '))"
   ]
  },
  {
   "cell_type": "code",
   "execution_count": 17,
   "id": "4d518503",
   "metadata": {},
   "outputs": [
    {
     "data": {
      "text/plain": [
       "int"
      ]
     },
     "execution_count": 17,
     "metadata": {},
     "output_type": "execute_result"
    }
   ],
   "source": [
    "type(age)"
   ]
  },
  {
   "cell_type": "code",
   "execution_count": 18,
   "id": "f81ad7bd",
   "metadata": {
    "scrolled": true
   },
   "outputs": [
    {
     "data": {
      "text/plain": [
       "22"
      ]
     },
     "execution_count": 18,
     "metadata": {},
     "output_type": "execute_result"
    }
   ],
   "source": [
    "age"
   ]
  },
  {
   "cell_type": "code",
   "execution_count": 1,
   "id": "71d81f12",
   "metadata": {},
   "outputs": [
    {
     "name": "stdout",
     "output_type": "stream",
     "text": [
      "Enter your name: Krishan\n",
      "Enter your age: 22\n",
      "Enter your marks: 98\n",
      "Name of candidate : Krishan\n",
      "Age of candidate : 22\n",
      "Marks of candidate : 98\n"
     ]
    }
   ],
   "source": [
    "name = input('Enter your name: ')\n",
    "age = input('Enter your age: ')\n",
    "marks = input('Enter your marks: ')\n",
    "print('Name of candidate :',name)\n",
    "print('Age of candidate :',age)\n",
    "print('Marks of candidate :',marks)"
   ]
  },
  {
   "cell_type": "markdown",
   "id": "73d4da52",
   "metadata": {},
   "source": [
    "## Indexing and slicing in sequence"
   ]
  },
  {
   "cell_type": "code",
   "execution_count": 37,
   "id": "fd1da8e8",
   "metadata": {},
   "outputs": [],
   "source": [
    "string = 'Welcome'"
   ]
  },
  {
   "cell_type": "code",
   "execution_count": 38,
   "id": "0eff7452",
   "metadata": {},
   "outputs": [
    {
     "data": {
      "text/plain": [
       "'l'"
      ]
     },
     "execution_count": 38,
     "metadata": {},
     "output_type": "execute_result"
    }
   ],
   "source": [
    "string[2]  # you can passindex number in [] in order to get the  charater"
   ]
  },
  {
   "cell_type": "code",
   "execution_count": 39,
   "id": "c0bfdcd0",
   "metadata": {},
   "outputs": [
    {
     "data": {
      "text/plain": [
       "'l'"
      ]
     },
     "execution_count": 39,
     "metadata": {},
     "output_type": "execute_result"
    }
   ],
   "source": [
    "string[-5]"
   ]
  },
  {
   "cell_type": "code",
   "execution_count": 43,
   "id": "c6407e29",
   "metadata": {},
   "outputs": [
    {
     "data": {
      "text/plain": [
       "'Welc'"
      ]
     },
     "execution_count": 43,
     "metadata": {},
     "output_type": "execute_result"
    }
   ],
   "source": [
    "string[0:4]"
   ]
  },
  {
   "cell_type": "code",
   "execution_count": 46,
   "id": "4612c6d8",
   "metadata": {},
   "outputs": [
    {
     "data": {
      "text/plain": [
       "'me'"
      ]
     },
     "execution_count": 46,
     "metadata": {},
     "output_type": "execute_result"
    }
   ],
   "source": [
    "string[5:]  # from 5 to end"
   ]
  },
  {
   "cell_type": "code",
   "execution_count": 47,
   "id": "c3d51d3c",
   "metadata": {},
   "outputs": [
    {
     "data": {
      "text/plain": [
       "'come'"
      ]
     },
     "execution_count": 47,
     "metadata": {},
     "output_type": "execute_result"
    }
   ],
   "source": [
    "string[-4:]"
   ]
  },
  {
   "cell_type": "code",
   "execution_count": 48,
   "id": "62c57033",
   "metadata": {},
   "outputs": [],
   "source": [
    "string = 'Hello friend'"
   ]
  },
  {
   "cell_type": "code",
   "execution_count": 51,
   "id": "200b3d92",
   "metadata": {},
   "outputs": [
    {
     "data": {
      "text/plain": [
       "'Hello'"
      ]
     },
     "execution_count": 51,
     "metadata": {},
     "output_type": "execute_result"
    }
   ],
   "source": [
    "string[:-7]"
   ]
  },
  {
   "cell_type": "code",
   "execution_count": 52,
   "id": "79823ea1",
   "metadata": {},
   "outputs": [
    {
     "data": {
      "text/plain": [
       "''"
      ]
     },
     "execution_count": 52,
     "metadata": {},
     "output_type": "execute_result"
    }
   ],
   "source": [
    "string[4:1]"
   ]
  },
  {
   "cell_type": "code",
   "execution_count": 66,
   "id": "1aa73f46",
   "metadata": {},
   "outputs": [
    {
     "name": "stdout",
     "output_type": "stream",
     "text": [
      "o\n",
      "i\n",
      "llo my \n",
      "Hel\n",
      "end\n",
      "lo my friend\n",
      "Hello my fri\n",
      "\n",
      " frie\n",
      "Hello my friend\n"
     ]
    }
   ],
   "source": [
    "string = 'Hello my friend'\n",
    "print(string[4])     \n",
    "print(string[-4])\n",
    "print(string[2:9])\n",
    "print(string[:3])\n",
    "print(string[-3:])\n",
    "print(string[3:])\n",
    "print(string[:-3])\n",
    "print(string[11:2])\n",
    "print(string[-7:-2])\n",
    "print(string[:])"
   ]
  },
  {
   "cell_type": "markdown",
   "id": "79a32c3c",
   "metadata": {},
   "source": [
    "## Operator in python"
   ]
  },
  {
   "cell_type": "markdown",
   "id": "cf6bd165",
   "metadata": {},
   "source": [
    "### Ariithmatic Operators"
   ]
  },
  {
   "cell_type": "code",
   "execution_count": 67,
   "id": "dbc7fafe",
   "metadata": {},
   "outputs": [],
   "source": [
    "# +, -, *, /, //(floor division), %, **"
   ]
  },
  {
   "cell_type": "code",
   "execution_count": 68,
   "id": "7be918d0",
   "metadata": {},
   "outputs": [
    {
     "data": {
      "text/plain": [
       "25"
      ]
     },
     "execution_count": 68,
     "metadata": {},
     "output_type": "execute_result"
    }
   ],
   "source": [
    "12+13"
   ]
  },
  {
   "cell_type": "code",
   "execution_count": 2,
   "id": "60d8e02b",
   "metadata": {},
   "outputs": [
    {
     "data": {
      "text/plain": [
       "41.32"
      ]
     },
     "execution_count": 2,
     "metadata": {},
     "output_type": "execute_result"
    }
   ],
   "source": [
    "23.12 + 18.2"
   ]
  },
  {
   "cell_type": "code",
   "execution_count": 74,
   "id": "c997afc6",
   "metadata": {},
   "outputs": [
    {
     "data": {
      "text/plain": [
       "0.30000000000000004"
      ]
     },
     "execution_count": 74,
     "metadata": {},
     "output_type": "execute_result"
    }
   ],
   "source": [
    "0.1 + 0.1 + 0.1"
   ]
  },
  {
   "cell_type": "code",
   "execution_count": 78,
   "id": "51f8d93a",
   "metadata": {},
   "outputs": [
    {
     "data": {
      "text/plain": [
       "'Hello Friend'"
      ]
     },
     "execution_count": 78,
     "metadata": {},
     "output_type": "execute_result"
    }
   ],
   "source": [
    "'Hello' + ' Friend'"
   ]
  },
  {
   "cell_type": "code",
   "execution_count": 79,
   "id": "b1ce2cfd",
   "metadata": {},
   "outputs": [
    {
     "data": {
      "text/plain": [
       "(11+17j)"
      ]
     },
     "execution_count": 79,
     "metadata": {},
     "output_type": "execute_result"
    }
   ],
   "source": [
    "2+8j + 9+9j"
   ]
  },
  {
   "cell_type": "code",
   "execution_count": 81,
   "id": "9d55e3ae",
   "metadata": {},
   "outputs": [
    {
     "data": {
      "text/plain": [
       "2"
      ]
     },
     "execution_count": 81,
     "metadata": {},
     "output_type": "execute_result"
    }
   ],
   "source": [
    "True + True"
   ]
  },
  {
   "cell_type": "code",
   "execution_count": 82,
   "id": "e8368986",
   "metadata": {},
   "outputs": [
    {
     "data": {
      "text/plain": [
       "1"
      ]
     },
     "execution_count": 82,
     "metadata": {},
     "output_type": "execute_result"
    }
   ],
   "source": [
    "True + False"
   ]
  },
  {
   "cell_type": "code",
   "execution_count": 83,
   "id": "09ce284e",
   "metadata": {},
   "outputs": [
    {
     "data": {
      "text/plain": [
       "0"
      ]
     },
     "execution_count": 83,
     "metadata": {},
     "output_type": "execute_result"
    }
   ],
   "source": [
    "False + False"
   ]
  },
  {
   "cell_type": "code",
   "execution_count": 85,
   "id": "d0c500af",
   "metadata": {},
   "outputs": [
    {
     "data": {
      "text/plain": [
       "1"
      ]
     },
     "execution_count": 85,
     "metadata": {},
     "output_type": "execute_result"
    }
   ],
   "source": [
    "True - False"
   ]
  },
  {
   "cell_type": "code",
   "execution_count": 86,
   "id": "f6fb97b8",
   "metadata": {},
   "outputs": [
    {
     "data": {
      "text/plain": [
       "69.36"
      ]
     },
     "execution_count": 86,
     "metadata": {},
     "output_type": "execute_result"
    }
   ],
   "source": [
    "23.12 * 3"
   ]
  },
  {
   "cell_type": "code",
   "execution_count": 92,
   "id": "fd944a3f",
   "metadata": {},
   "outputs": [
    {
     "data": {
      "text/plain": [
       "'HELLO HELLO HELLO HELLO HELLO '"
      ]
     },
     "execution_count": 92,
     "metadata": {},
     "output_type": "execute_result"
    }
   ],
   "source": [
    "'HELLO ' *5"
   ]
  },
  {
   "cell_type": "code",
   "execution_count": 100,
   "id": "535a0727",
   "metadata": {},
   "outputs": [
    {
     "data": {
      "text/plain": [
       "(20+17j)"
      ]
     },
     "execution_count": 100,
     "metadata": {},
     "output_type": "execute_result"
    }
   ],
   "source": [
    "(2+7j) * (3-2j)"
   ]
  },
  {
   "cell_type": "code",
   "execution_count": 104,
   "id": "d8c35492",
   "metadata": {},
   "outputs": [
    {
     "data": {
      "text/plain": [
       "2.5"
      ]
     },
     "execution_count": 104,
     "metadata": {},
     "output_type": "execute_result"
    }
   ],
   "source": [
    "5/2"
   ]
  },
  {
   "cell_type": "code",
   "execution_count": 2,
   "id": "9d96b7c9",
   "metadata": {},
   "outputs": [
    {
     "data": {
      "text/plain": [
       "2"
      ]
     },
     "execution_count": 2,
     "metadata": {},
     "output_type": "execute_result"
    }
   ],
   "source": [
    "5//2  # floor division"
   ]
  },
  {
   "cell_type": "code",
   "execution_count": 107,
   "id": "1de8935f",
   "metadata": {},
   "outputs": [
    {
     "data": {
      "text/plain": [
       "11.571428571428571"
      ]
     },
     "execution_count": 107,
     "metadata": {},
     "output_type": "execute_result"
    }
   ],
   "source": [
    "81/7"
   ]
  },
  {
   "cell_type": "code",
   "execution_count": 108,
   "id": "b3f2b2ee",
   "metadata": {},
   "outputs": [
    {
     "data": {
      "text/plain": [
       "11"
      ]
     },
     "execution_count": 108,
     "metadata": {},
     "output_type": "execute_result"
    }
   ],
   "source": [
    "81//7"
   ]
  },
  {
   "cell_type": "code",
   "execution_count": 109,
   "id": "3fb69d5d",
   "metadata": {},
   "outputs": [
    {
     "data": {
      "text/plain": [
       "2"
      ]
     },
     "execution_count": 109,
     "metadata": {},
     "output_type": "execute_result"
    }
   ],
   "source": [
    "5%3  #remainder"
   ]
  },
  {
   "cell_type": "code",
   "execution_count": 110,
   "id": "d4aaddd3",
   "metadata": {},
   "outputs": [
    {
     "data": {
      "text/plain": [
       "64"
      ]
     },
     "execution_count": 110,
     "metadata": {},
     "output_type": "execute_result"
    }
   ],
   "source": [
    "4**3"
   ]
  },
  {
   "cell_type": "code",
   "execution_count": 111,
   "id": "17db9ffc",
   "metadata": {},
   "outputs": [
    {
     "data": {
      "text/plain": [
       "81"
      ]
     },
     "execution_count": 111,
     "metadata": {},
     "output_type": "execute_result"
    }
   ],
   "source": [
    "9**2"
   ]
  },
  {
   "cell_type": "code",
   "execution_count": 112,
   "id": "6f1db0f3",
   "metadata": {},
   "outputs": [
    {
     "data": {
      "text/plain": [
       "6.0"
      ]
     },
     "execution_count": 112,
     "metadata": {},
     "output_type": "execute_result"
    }
   ],
   "source": [
    "36**0.5"
   ]
  },
  {
   "cell_type": "code",
   "execution_count": 119,
   "id": "37831ba6",
   "metadata": {},
   "outputs": [
    {
     "data": {
      "text/plain": [
       "65"
      ]
     },
     "execution_count": 119,
     "metadata": {},
     "output_type": "execute_result"
    }
   ],
   "source": [
    "# Q1: Add two number\n",
    "num1 = 23\n",
    "num2 = 42\n",
    "num1 + num2"
   ]
  },
  {
   "cell_type": "code",
   "execution_count": 4,
   "id": "174e1701",
   "metadata": {},
   "outputs": [
    {
     "name": "stdout",
     "output_type": "stream",
     "text": [
      "Enter the first number3\n",
      "Enter the second number4\n",
      "sum: 7\n"
     ]
    }
   ],
   "source": [
    "num1=int(input('Enter the first number'))\n",
    "num2=int(input('Enter the second number'))\n",
    "print('sum:',num1+num2)"
   ]
  },
  {
   "cell_type": "code",
   "execution_count": 3,
   "id": "327772d1",
   "metadata": {},
   "outputs": [
    {
     "name": "stdout",
     "output_type": "stream",
     "text": [
      "num1 = 3\n",
      "num2 = 4\n",
      "sum = 7\n"
     ]
    }
   ],
   "source": [
    "# Q2: Add two number given by user\n",
    "num1 = int(input('num1 = '))\n",
    "num2 = int(input('num2 = '))\n",
    "print('sum =',num1 + num2)"
   ]
  },
  {
   "cell_type": "code",
   "execution_count": 125,
   "id": "532baa0e",
   "metadata": {},
   "outputs": [
    {
     "name": "stdout",
     "output_type": "stream",
     "text": [
      "base = 5\n",
      "height = 10\n",
      "Area =  25.0\n"
     ]
    }
   ],
   "source": [
    "# Q2: Accept the base and height  of triangle and calculate its  area\n",
    "base = int(input('base = '))\n",
    "height = int(input('height = '))\n",
    "print('Area = ',1/2 *base * height)"
   ]
  },
  {
   "cell_type": "code",
   "execution_count": 131,
   "id": "ce7cc865",
   "metadata": {},
   "outputs": [
    {
     "name": "stdout",
     "output_type": "stream",
     "text": [
      "Marks in maths = 95\n",
      "Marks in english = 90\n",
      "Marks in science = 85\n",
      "Total percentage =  90.0 %\n"
     ]
    }
   ],
   "source": [
    "# Accept marks of student in 3 subject and calculate percentage\n",
    "Maths = float(input('Marks in maths = '))\n",
    "English = float(input('Marks in english = '))\n",
    "Science = float(input('Marks in science = '))\n",
    "print('Total percentage = ',(Maths + English + Science)/3, '%')"
   ]
  },
  {
   "cell_type": "code",
   "execution_count": 157,
   "id": "f6c2c976",
   "metadata": {
    "scrolled": true
   },
   "outputs": [
    {
     "name": "stdout",
     "output_type": "stream",
     "text": [
      "Enter height of tree in meter is 40\n",
      "1574.8031496062993\n",
      "131.0\n",
      "131.0 and 1575\n"
     ]
    }
   ],
   "source": [
    "# Accept the height of a tree in meter and display it into feet and inches\n",
    "height = float(input('Enter height of tree in meter is '))\n",
    "height_in_inches = (height/0.0254)\n",
    "print(height_in_inches)\n",
    "height_in_feet = (height_in_inches//12)\n",
    "print(height_in_feet)\n",
    "print( height_in_feet, 'and', round(height_in_inches))\n"
   ]
  },
  {
   "cell_type": "code",
   "execution_count": 165,
   "id": "f3f61035",
   "metadata": {},
   "outputs": [
    {
     "name": "stdout",
     "output_type": "stream",
     "text": [
      "Enter a number 345678\n",
      "8\n"
     ]
    }
   ],
   "source": [
    "# Accept a  number from user and display its last digit\n",
    "num = int(input('Enter a number '))\n",
    "print(num%10)"
   ]
  },
  {
   "cell_type": "code",
   "execution_count": 5,
   "id": "33b1cb46",
   "metadata": {},
   "outputs": [
    {
     "name": "stdout",
     "output_type": "stream",
     "text": [
      "Enter a complex =4+8j\n",
      "Real: 4.0\n",
      "Imaginary: 8.0\n"
     ]
    }
   ],
   "source": [
    "# Display real and imaginary part of complex number\n",
    "num = complex(input('Enter a complex ='))\n",
    "print('Real:', num.real)\n",
    "print('Imaginary:', num.imag)"
   ]
  },
  {
   "cell_type": "code",
   "execution_count": 8,
   "id": "7f0b5836",
   "metadata": {},
   "outputs": [
    {
     "data": {
      "text/plain": [
       "7.0"
      ]
     },
     "execution_count": 8,
     "metadata": {},
     "output_type": "execute_result"
    }
   ],
   "source": [
    "n=4+7j\n",
    "n.imag"
   ]
  },
  {
   "cell_type": "code",
   "execution_count": 2,
   "id": "850cd597",
   "metadata": {},
   "outputs": [
    {
     "name": "stdout",
     "output_type": "stream",
     "text": [
      "2.0\n"
     ]
    }
   ],
   "source": [
    "x = 4.5\n",
    "y = 2\n",
    "print(x//y)"
   ]
  },
  {
   "cell_type": "code",
   "execution_count": 12,
   "id": "8ea71950",
   "metadata": {},
   "outputs": [
    {
     "name": "stdout",
     "output_type": "stream",
     "text": [
      "Enter the number: 7\n",
      "3 successors are 8 9 10\n"
     ]
    }
   ],
   "source": [
    "number = int(input('Enter the number: '))\n",
    "print('3 successors are', number+1, number+2, number+3)"
   ]
  },
  {
   "cell_type": "code",
   "execution_count": 13,
   "id": "bde6dae2",
   "metadata": {},
   "outputs": [
    {
     "name": "stdout",
     "output_type": "stream",
     "text": [
      "Enter the price: 46\n",
      "Enter the quantity: 6.5\n",
      "Your total bill is  299.0\n"
     ]
    }
   ],
   "source": [
    "Price = float(input('Enter the price: '))\n",
    "Quantity = float(input('Enter the quantity: '))\n",
    "print('Your total bill is ', Price * Quantity)"
   ]
  },
  {
   "cell_type": "markdown",
   "id": "83c3913e",
   "metadata": {},
   "source": [
    "### Comparision Operators(Relational)"
   ]
  },
  {
   "cell_type": "code",
   "execution_count": 14,
   "id": "93525ec7",
   "metadata": {},
   "outputs": [],
   "source": [
    "# >, <, >=, <=, ==, !=  (Output boolean)"
   ]
  },
  {
   "cell_type": "code",
   "execution_count": 15,
   "id": "11343b55",
   "metadata": {},
   "outputs": [
    {
     "data": {
      "text/plain": [
       "False"
      ]
     },
     "execution_count": 15,
     "metadata": {},
     "output_type": "execute_result"
    }
   ],
   "source": [
    "34>54"
   ]
  },
  {
   "cell_type": "code",
   "execution_count": 16,
   "id": "4c6361a4",
   "metadata": {},
   "outputs": [
    {
     "data": {
      "text/plain": [
       "True"
      ]
     },
     "execution_count": 16,
     "metadata": {},
     "output_type": "execute_result"
    }
   ],
   "source": [
    "91 >= 54"
   ]
  },
  {
   "cell_type": "code",
   "execution_count": 17,
   "id": "63e0e490",
   "metadata": {},
   "outputs": [
    {
     "data": {
      "text/plain": [
       "False"
      ]
     },
     "execution_count": 17,
     "metadata": {},
     "output_type": "execute_result"
    }
   ],
   "source": [
    "'Delhi' > 'Mumbai'"
   ]
  },
  {
   "cell_type": "code",
   "execution_count": 20,
   "id": "9af571eb",
   "metadata": {},
   "outputs": [
    {
     "data": {
      "text/plain": [
       "True"
      ]
     },
     "execution_count": 20,
     "metadata": {},
     "output_type": "execute_result"
    }
   ],
   "source": [
    "'delhi' > 'dehradhun'"
   ]
  },
  {
   "cell_type": "code",
   "execution_count": 21,
   "id": "9319a11b",
   "metadata": {},
   "outputs": [
    {
     "data": {
      "text/plain": [
       "True"
      ]
     },
     "execution_count": 21,
     "metadata": {},
     "output_type": "execute_result"
    }
   ],
   "source": [
    "'delhi' > 'Delhi'"
   ]
  },
  {
   "cell_type": "code",
   "execution_count": 22,
   "id": "a8f1bc86",
   "metadata": {},
   "outputs": [
    {
     "data": {
      "text/plain": [
       "68"
      ]
     },
     "execution_count": 22,
     "metadata": {},
     "output_type": "execute_result"
    }
   ],
   "source": [
    "ord('D')"
   ]
  },
  {
   "cell_type": "code",
   "execution_count": 23,
   "id": "8e017ddd",
   "metadata": {},
   "outputs": [
    {
     "data": {
      "text/plain": [
       "100"
      ]
     },
     "execution_count": 23,
     "metadata": {},
     "output_type": "execute_result"
    }
   ],
   "source": [
    "ord('d')"
   ]
  },
  {
   "cell_type": "code",
   "execution_count": 28,
   "id": "ed04163b",
   "metadata": {},
   "outputs": [
    {
     "data": {
      "text/plain": [
       "False"
      ]
     },
     "execution_count": 28,
     "metadata": {},
     "output_type": "execute_result"
    }
   ],
   "source": [
    "'mini' > 'minimum'"
   ]
  },
  {
   "cell_type": "code",
   "execution_count": 29,
   "id": "bac2ad8f",
   "metadata": {},
   "outputs": [
    {
     "data": {
      "text/plain": [
       "True"
      ]
     },
     "execution_count": 29,
     "metadata": {},
     "output_type": "execute_result"
    }
   ],
   "source": [
    "'pune' <= 'pune'"
   ]
  },
  {
   "cell_type": "code",
   "execution_count": 30,
   "id": "b41be173",
   "metadata": {},
   "outputs": [
    {
     "data": {
      "text/plain": [
       "True"
      ]
     },
     "execution_count": 30,
     "metadata": {},
     "output_type": "execute_result"
    }
   ],
   "source": [
    "'pune' != 'delhi'"
   ]
  },
  {
   "cell_type": "markdown",
   "id": "1ccf5dca",
   "metadata": {},
   "source": [
    "### logical Operators"
   ]
  },
  {
   "cell_type": "code",
   "execution_count": 32,
   "id": "adc571ff",
   "metadata": {},
   "outputs": [],
   "source": [
    "# and, or, not"
   ]
  },
  {
   "cell_type": "code",
   "execution_count": 33,
   "id": "50f203aa",
   "metadata": {},
   "outputs": [],
   "source": [
    "# And logic : It is true only when both the inputs are true\n",
    "# inp1  inp2  out\n",
    "#  T     T     T\n",
    "#  T     F     F\n",
    "#  F     T     F\n",
    "#  F     F     F\n",
    "\n",
    "# OR logic : It is false only when both the inputs are false\n",
    "# inp1  inp2  out\n",
    "#  T     T     T\n",
    "#  T     F     T\n",
    "#  F     T     T\n",
    "#  F     F     F\n",
    "\n",
    "# Not Logic\n",
    "# inp  out\n",
    "#  T    F\n",
    "#  F    T"
   ]
  },
  {
   "cell_type": "code",
   "execution_count": 34,
   "id": "9ac730f7",
   "metadata": {},
   "outputs": [
    {
     "data": {
      "text/plain": [
       "False"
      ]
     },
     "execution_count": 34,
     "metadata": {},
     "output_type": "execute_result"
    }
   ],
   "source": [
    "True and False"
   ]
  },
  {
   "cell_type": "code",
   "execution_count": 36,
   "id": "e8e80b78",
   "metadata": {},
   "outputs": [
    {
     "data": {
      "text/plain": [
       "True"
      ]
     },
     "execution_count": 36,
     "metadata": {},
     "output_type": "execute_result"
    }
   ],
   "source": [
    "78>34 and 54!=34"
   ]
  },
  {
   "cell_type": "code",
   "execution_count": 37,
   "id": "f096de51",
   "metadata": {},
   "outputs": [
    {
     "data": {
      "text/plain": [
       "True"
      ]
     },
     "execution_count": 37,
     "metadata": {},
     "output_type": "execute_result"
    }
   ],
   "source": [
    "'Delhi' < 'delhi' or 76<34"
   ]
  },
  {
   "cell_type": "code",
   "execution_count": 39,
   "id": "005b941b",
   "metadata": {},
   "outputs": [
    {
     "data": {
      "text/plain": [
       "False"
      ]
     },
     "execution_count": 39,
     "metadata": {},
     "output_type": "execute_result"
    }
   ],
   "source": [
    "'hello' < 'Hi' or 87==78"
   ]
  },
  {
   "cell_type": "code",
   "execution_count": 42,
   "id": "0441ca53",
   "metadata": {},
   "outputs": [
    {
     "data": {
      "text/plain": [
       "False"
      ]
     },
     "execution_count": 42,
     "metadata": {},
     "output_type": "execute_result"
    }
   ],
   "source": [
    "not True"
   ]
  },
  {
   "cell_type": "code",
   "execution_count": 43,
   "id": "5e4246e5",
   "metadata": {},
   "outputs": [
    {
     "data": {
      "text/plain": [
       "True"
      ]
     },
     "execution_count": 43,
     "metadata": {},
     "output_type": "execute_result"
    }
   ],
   "source": [
    "not False"
   ]
  },
  {
   "cell_type": "code",
   "execution_count": 46,
   "id": "e2ed0ba0",
   "metadata": {},
   "outputs": [
    {
     "data": {
      "text/plain": [
       "False"
      ]
     },
     "execution_count": 46,
     "metadata": {},
     "output_type": "execute_result"
    }
   ],
   "source": [
    "not 'delhi' > 'Pune'"
   ]
  },
  {
   "cell_type": "markdown",
   "id": "b29ffc50",
   "metadata": {},
   "source": [
    "## Assingment Operators"
   ]
  },
  {
   "cell_type": "code",
   "execution_count": 52,
   "id": "78401b46",
   "metadata": {},
   "outputs": [],
   "source": [
    "a = 34  # Assign value 34 in variable a"
   ]
  },
  {
   "cell_type": "code",
   "execution_count": 53,
   "id": "1355d17f",
   "metadata": {},
   "outputs": [
    {
     "data": {
      "text/plain": [
       "False"
      ]
     },
     "execution_count": 53,
     "metadata": {},
     "output_type": "execute_result"
    }
   ],
   "source": [
    "a == 45 # it will comapre if a is equal to 45 or not"
   ]
  },
  {
   "cell_type": "code",
   "execution_count": 54,
   "id": "d3d3b5ac",
   "metadata": {},
   "outputs": [],
   "source": [
    "# =, +=, -=, *=, /="
   ]
  },
  {
   "cell_type": "code",
   "execution_count": 55,
   "id": "22c56ca3",
   "metadata": {},
   "outputs": [],
   "source": [
    "# update the value of a (increment of 2)"
   ]
  },
  {
   "cell_type": "code",
   "execution_count": 56,
   "id": "22e5b94d",
   "metadata": {},
   "outputs": [
    {
     "data": {
      "text/plain": [
       "34"
      ]
     },
     "execution_count": 56,
     "metadata": {},
     "output_type": "execute_result"
    }
   ],
   "source": [
    "a"
   ]
  },
  {
   "cell_type": "code",
   "execution_count": 58,
   "id": "adaf82a8",
   "metadata": {},
   "outputs": [
    {
     "data": {
      "text/plain": [
       "36"
      ]
     },
     "execution_count": 58,
     "metadata": {},
     "output_type": "execute_result"
    }
   ],
   "source": [
    "a = 34\n",
    "a += 2 # a = a +2\n",
    "a"
   ]
  },
  {
   "cell_type": "code",
   "execution_count": 59,
   "id": "f1f38a02",
   "metadata": {},
   "outputs": [
    {
     "data": {
      "text/plain": [
       "30"
      ]
     },
     "execution_count": 59,
     "metadata": {},
     "output_type": "execute_result"
    }
   ],
   "source": [
    "a = 34\n",
    "a -= 4 # a = a - 4\n",
    "a"
   ]
  },
  {
   "cell_type": "code",
   "execution_count": 64,
   "id": "d6b8c32a",
   "metadata": {},
   "outputs": [
    {
     "data": {
      "text/plain": [
       "12"
      ]
     },
     "execution_count": 64,
     "metadata": {},
     "output_type": "execute_result"
    }
   ],
   "source": [
    "num = 4\n",
    "num *= 3 # num = num*3\n",
    "num"
   ]
  },
  {
   "cell_type": "code",
   "execution_count": 65,
   "id": "e221976d",
   "metadata": {},
   "outputs": [
    {
     "data": {
      "text/plain": [
       "4.0"
      ]
     },
     "execution_count": 65,
     "metadata": {},
     "output_type": "execute_result"
    }
   ],
   "source": [
    "num /=3 # num = num / 3\n",
    "num"
   ]
  },
  {
   "cell_type": "code",
   "execution_count": 67,
   "id": "4fbca207",
   "metadata": {},
   "outputs": [
    {
     "data": {
      "text/plain": [
       "16.0"
      ]
     },
     "execution_count": 67,
     "metadata": {},
     "output_type": "execute_result"
    }
   ],
   "source": [
    "num **= 2 # num = num**2\n",
    "num"
   ]
  },
  {
   "cell_type": "markdown",
   "id": "1423a495",
   "metadata": {},
   "source": [
    "## Flow control statements"
   ]
  },
  {
   "cell_type": "code",
   "execution_count": 68,
   "id": "a2b25e77",
   "metadata": {},
   "outputs": [],
   "source": [
    "# if statements\n",
    "# if - else statements\n",
    "# if - elif - else statements\n",
    "# nested if-else statements"
   ]
  },
  {
   "cell_type": "code",
   "execution_count": 69,
   "id": "f3816c99",
   "metadata": {},
   "outputs": [],
   "source": [
    "# syntax of if\n",
    "# code 1\n",
    "# code 2\n",
    "# if condition :\n",
    "#     body of if (code 3)\n",
    "#     body of if (code 4)\n",
    "# body of if means code 3 and code 4 will only run when condition in if is true   "
   ]
  },
  {
   "cell_type": "code",
   "execution_count": 11,
   "id": "c4514eda",
   "metadata": {},
   "outputs": [
    {
     "name": "stdout",
     "output_type": "stream",
     "text": [
      "Enter a number 5\n",
      "Your entered 5\n",
      "thanks\n",
      "thanks\n"
     ]
    }
   ],
   "source": [
    "num = int(input('Enter a number '))\n",
    "if num==5:\n",
    "        print('Your entered 5') # Statement will be executed only when the condition is true\n",
    "        print('thanks')\n",
    "print('thanks')"
   ]
  },
  {
   "cell_type": "code",
   "execution_count": 9,
   "id": "ab536f37",
   "metadata": {},
   "outputs": [],
   "source": [
    "# syntax of if\n",
    "# code 1\n",
    "# code 2\n",
    "# if condition :\n",
    "#     body of if (code 3)\n",
    "#     body of if (code 4)\n",
    "# else condition :\n",
    "#     body of else (code 5)\n",
    "#     body of else (code 6)\n",
    "# code 3 and code 4 will execute when condition in if is true\n",
    "# code 5 and code 6 will execute when condition in if is false"
   ]
  },
  {
   "cell_type": "code",
   "execution_count": 10,
   "id": "618d82e3",
   "metadata": {},
   "outputs": [
    {
     "name": "stdout",
     "output_type": "stream",
     "text": [
      "Enter a number 5\n",
      "Odd\n"
     ]
    }
   ],
   "source": [
    "num = int(input('Enter a number '))\n",
    "if num%2==0:\n",
    "        print('Even')\n",
    "else :\n",
    "    print('Odd')"
   ]
  },
  {
   "cell_type": "code",
   "execution_count": 85,
   "id": "3b37bd36",
   "metadata": {},
   "outputs": [],
   "source": [
    "# Take two numbber and print the greatest number"
   ]
  },
  {
   "cell_type": "code",
   "execution_count": 86,
   "id": "6b552049",
   "metadata": {},
   "outputs": [
    {
     "name": "stdout",
     "output_type": "stream",
     "text": [
      "Enter the number a 5\n",
      "Enter the number b 3\n",
      "5\n"
     ]
    }
   ],
   "source": [
    "a = int(input('Enter the number a '))\n",
    "b = int(input('Enter the number b '))\n",
    "if a>b:\n",
    "    print(a)\n",
    "else :\n",
    "    print(b)"
   ]
  },
  {
   "cell_type": "code",
   "execution_count": 87,
   "id": "70911bf3",
   "metadata": {},
   "outputs": [],
   "source": [
    "# read the number of classes held, number of classes attented and calculated the attendance of the student\n",
    "# If attendance is lower than 75%  print not allowed to write an exam, otherwise print you can collect your admit card"
   ]
  },
  {
   "cell_type": "code",
   "execution_count": 13,
   "id": "d996597e",
   "metadata": {},
   "outputs": [
    {
     "name": "stdout",
     "output_type": "stream",
     "text": [
      "Enter the total classes held 45\n",
      "Enter the classes attended 22\n",
      "Attendance is  48.89 %\n",
      "You are not allowed to write an exam\n"
     ]
    }
   ],
   "source": [
    "Total_class = int(input('Enter the total classes held '))\n",
    "Attended_class = int(input('Enter the classes attended '))\n",
    "Attendance = round((Attended_class/Total_class)*100,2)\n",
    "print('Attendance is ', Attendance, '%')\n",
    "if Attendance >75:\n",
    "    print('You can collect your admit card')\n",
    "else :\n",
    "    print('You are not allowed to write an exam')"
   ]
  },
  {
   "cell_type": "code",
   "execution_count": 103,
   "id": "6079792f",
   "metadata": {},
   "outputs": [],
   "source": [
    "# Read the percentage secured in 12th and the percentile got in entrance. the criteria of admission isstudent must get 75% and above in 12th and must be in top 10 percetiles in entrance. Write a program to tell if a student has admission or not"
   ]
  },
  {
   "cell_type": "code",
   "execution_count": 108,
   "id": "5d773ca9",
   "metadata": {},
   "outputs": [
    {
     "name": "stdout",
     "output_type": "stream",
     "text": [
      "Enter the marks got in 12th: 75\n",
      "Enter the percentile got in entrance: 90\n",
      "You are admitted\n"
     ]
    }
   ],
   "source": [
    "Marks_of_12th = int(input('Enter the marks got in 12th: '))\n",
    "percentile_in_entrance = int(input('Enter the percentile got in entrance: '))\n",
    "\n",
    "if Marks_of_12th >= 75 and percentile_in_entrance >= 90:\n",
    "    print('You are admitted')\n",
    "else :\n",
    "    print('Better luck next time')"
   ]
  },
  {
   "cell_type": "code",
   "execution_count": 109,
   "id": "560e251e",
   "metadata": {},
   "outputs": [],
   "source": [
    "# if- elif - else\n",
    "# code 1\n",
    "# code 2\n",
    "# if condition :\n",
    "#     body of if (code 3)\n",
    "#     body of if (code 4)\n",
    "# elif condition :\n",
    "#     body of elif (code 5)\n",
    "#     body of elif (code 6)\n",
    "# else condition :\n",
    "#     body of else (code 7)\n",
    "#     body of else (code 8)\n",
    "# code 3 and code 4 will execute when condition in if is true\n",
    "# code 5 and code 6 will execute when condition in elif is true\n",
    "# code 7 and code 8 will execute when condition in above both condition is false"
   ]
  },
  {
   "cell_type": "code",
   "execution_count": 110,
   "id": "177b72a9",
   "metadata": {},
   "outputs": [],
   "source": [
    "# Read a number from the user and print positive, negative and zero"
   ]
  },
  {
   "cell_type": "code",
   "execution_count": 114,
   "id": "9f6358f7",
   "metadata": {},
   "outputs": [
    {
     "name": "stdout",
     "output_type": "stream",
     "text": [
      "Enter a number: 0\n",
      "Zero\n"
     ]
    }
   ],
   "source": [
    "num = int(input('Enter a number: '))\n",
    "if num > 0:\n",
    "    print('Positive Number')\n",
    "elif num < 0:\n",
    "    print('Negative Number')\n",
    "else :\n",
    "    print('Zero')"
   ]
  },
  {
   "cell_type": "code",
   "execution_count": 115,
   "id": "6bd247b5",
   "metadata": {},
   "outputs": [],
   "source": [
    "# read the number of classes held, number of classes attented and calculated the attendance of the student\n",
    "# The student is allowed for exam only if attenace is greater than 75%, but there is grace of 5% in attendance if student has medical certificate but below 70% he is not allowed\n",
    "# If attendance is lower than 75%  print not allowed to write an exam, otherwise print you can collect your admit card"
   ]
  },
  {
   "cell_type": "code",
   "execution_count": 141,
   "id": "ecef9788",
   "metadata": {},
   "outputs": [
    {
     "name": "stdout",
     "output_type": "stream",
     "text": [
      "Enter total classes : 55\n",
      "Enter classes attended : 54\n",
      "Attendence :  98.18\n",
      "You can collect your admit card\n"
     ]
    }
   ],
   "source": [
    "total_classes = int(input(\"Enter total classes : \"))\n",
    "classes_attended = int(input(\"Enter classes attended : \"))\n",
    "attendence_percent = (classes_attended/total_classes)*100\n",
    "print(\"Attendence : \", round(attendence_percent, 2))\n",
    "if attendence_percent >= 75:\n",
    "    print('You can collect your admit card')\n",
    "elif (70<= attendence_percent):\n",
    "    print('You have to show medical certificate to appear for exam')\n",
    "else :\n",
    "    print('You are not allowed to write an exam')\n",
    "\n",
    "\n"
   ]
  },
  {
   "cell_type": "markdown",
   "id": "38d1183f",
   "metadata": {},
   "source": [
    "# ITP"
   ]
  },
  {
   "cell_type": "code",
   "execution_count": 10,
   "id": "1c36489f",
   "metadata": {},
   "outputs": [
    {
     "data": {
      "text/plain": [
       "4.5"
      ]
     },
     "execution_count": 10,
     "metadata": {},
     "output_type": "execute_result"
    }
   ],
   "source": [
    "# Implicit type conversion\n",
    "2.5 + 2"
   ]
  },
  {
   "cell_type": "code",
   "execution_count": 11,
   "id": "0a173280",
   "metadata": {},
   "outputs": [
    {
     "data": {
      "text/plain": [
       "1331"
      ]
     },
     "execution_count": 11,
     "metadata": {},
     "output_type": "execute_result"
    }
   ],
   "source": [
    "11**3"
   ]
  },
  {
   "cell_type": "code",
   "execution_count": 12,
   "id": "c97e4c2b",
   "metadata": {},
   "outputs": [
    {
     "data": {
      "text/plain": [
       "(8.4+7j)"
      ]
     },
     "execution_count": 12,
     "metadata": {},
     "output_type": "execute_result"
    }
   ],
   "source": [
    "2+7j + 6.4"
   ]
  },
  {
   "cell_type": "code",
   "execution_count": 14,
   "id": "187075ee",
   "metadata": {},
   "outputs": [
    {
     "data": {
      "text/plain": [
       "'hello hello hello '"
      ]
     },
     "execution_count": 14,
     "metadata": {},
     "output_type": "execute_result"
    }
   ],
   "source": [
    "'hello '*3"
   ]
  },
  {
   "cell_type": "code",
   "execution_count": 15,
   "id": "0724931b",
   "metadata": {},
   "outputs": [],
   "source": [
    "# Explicit DataTyp"
   ]
  },
  {
   "cell_type": "code",
   "execution_count": 16,
   "id": "1b7d834f",
   "metadata": {},
   "outputs": [
    {
     "data": {
      "text/plain": [
       "int"
      ]
     },
     "execution_count": 16,
     "metadata": {},
     "output_type": "execute_result"
    }
   ],
   "source": [
    "type(67)"
   ]
  },
  {
   "cell_type": "code",
   "execution_count": 17,
   "id": "98368ce1",
   "metadata": {},
   "outputs": [
    {
     "data": {
      "text/plain": [
       "67.0"
      ]
     },
     "execution_count": 17,
     "metadata": {},
     "output_type": "execute_result"
    }
   ],
   "source": [
    "float(67)"
   ]
  },
  {
   "cell_type": "code",
   "execution_count": 19,
   "id": "b85047d9",
   "metadata": {},
   "outputs": [
    {
     "data": {
      "text/plain": [
       "(6+0j)"
      ]
     },
     "execution_count": 19,
     "metadata": {},
     "output_type": "execute_result"
    }
   ],
   "source": [
    "complex(6)"
   ]
  },
  {
   "cell_type": "code",
   "execution_count": 20,
   "id": "7de4efe6",
   "metadata": {},
   "outputs": [
    {
     "data": {
      "text/plain": [
       "'243'"
      ]
     },
     "execution_count": 20,
     "metadata": {},
     "output_type": "execute_result"
    }
   ],
   "source": [
    "str(243)"
   ]
  },
  {
   "cell_type": "code",
   "execution_count": 21,
   "id": "cf39555a",
   "metadata": {},
   "outputs": [
    {
     "data": {
      "text/plain": [
       "True"
      ]
     },
     "execution_count": 21,
     "metadata": {},
     "output_type": "execute_result"
    }
   ],
   "source": [
    "bool(34)"
   ]
  },
  {
   "cell_type": "code",
   "execution_count": 22,
   "id": "6183486c",
   "metadata": {},
   "outputs": [
    {
     "data": {
      "text/plain": [
       "0j"
      ]
     },
     "execution_count": 22,
     "metadata": {},
     "output_type": "execute_result"
    }
   ],
   "source": [
    "complex(0)"
   ]
  },
  {
   "cell_type": "code",
   "execution_count": 24,
   "id": "3f844f19",
   "metadata": {},
   "outputs": [
    {
     "data": {
      "text/plain": [
       "False"
      ]
     },
     "execution_count": 24,
     "metadata": {},
     "output_type": "execute_result"
    }
   ],
   "source": [
    "bool('') # nothing will give false / space will give true"
   ]
  },
  {
   "cell_type": "code",
   "execution_count": 25,
   "id": "257aa106",
   "metadata": {},
   "outputs": [],
   "source": [
    "# Q: use the appropriate explicit type casting\n",
    "# 67 + '111'\n",
    "# 'harvy'+'spector'+1201+'@gmail.com'"
   ]
  },
  {
   "cell_type": "code",
   "execution_count": 26,
   "id": "43165f10",
   "metadata": {},
   "outputs": [
    {
     "data": {
      "text/plain": [
       "178"
      ]
     },
     "execution_count": 26,
     "metadata": {},
     "output_type": "execute_result"
    }
   ],
   "source": [
    "67 + int('111')"
   ]
  },
  {
   "cell_type": "code",
   "execution_count": 27,
   "id": "4544e5f4",
   "metadata": {},
   "outputs": [
    {
     "data": {
      "text/plain": [
       "'harvyspector1201@gmail.com'"
      ]
     },
     "execution_count": 27,
     "metadata": {},
     "output_type": "execute_result"
    }
   ],
   "source": [
    "'harvy'+'spector'+str(1201)+'@gmail.com'"
   ]
  },
  {
   "cell_type": "code",
   "execution_count": 29,
   "id": "516ef512",
   "metadata": {},
   "outputs": [],
   "source": [
    "# Q: Write the datatype of expeted result\n",
    "# 78 + 12.21    float\n",
    "# 3 + (-1+2J)   complex\n",
    "# 56.32 + 11 + (9+5j)   complex"
   ]
  },
  {
   "cell_type": "markdown",
   "id": "47926365",
   "metadata": {},
   "source": [
    "### print"
   ]
  },
  {
   "cell_type": "code",
   "execution_count": 42,
   "id": "1a3b8c5a",
   "metadata": {},
   "outputs": [
    {
     "name": "stdout",
     "output_type": "stream",
     "text": [
      "67 hello how r you\n"
     ]
    }
   ],
   "source": [
    "print(67,'hello','how r you')"
   ]
  },
  {
   "cell_type": "code",
   "execution_count": 45,
   "id": "42598cae",
   "metadata": {},
   "outputs": [
    {
     "name": "stdout",
     "output_type": "stream",
     "text": [
      "I''ll say hello to her\n"
     ]
    }
   ],
   "source": [
    "# I'll say hello to her\n",
    "print(\"I'll say hello to her\")"
   ]
  },
  {
   "cell_type": "code",
   "execution_count": 49,
   "id": "2c2676f8",
   "metadata": {},
   "outputs": [
    {
     "name": "stdout",
     "output_type": "stream",
     "text": [
      "I'll say \"Thank You\"\n"
     ]
    }
   ],
   "source": [
    "# I'll say \"Thank You\"\n",
    "print('''I'll say \"Thank You\"''')"
   ]
  },
  {
   "cell_type": "code",
   "execution_count": 65,
   "id": "0b85975b",
   "metadata": {},
   "outputs": [
    {
     "name": "stdout",
     "output_type": "stream",
     "text": [
      "Hello I am Krishan\n",
      "I am from Gurgaon\n",
      "Study at Great learning\n"
     ]
    }
   ],
   "source": [
    "# multiple line\n",
    "print('''Hello I am Krishan\n",
    "I am from Gurgaon\n",
    "Study at Great learning''')"
   ]
  },
  {
   "cell_type": "code",
   "execution_count": 64,
   "id": "d65b8bb4",
   "metadata": {},
   "outputs": [
    {
     "data": {
      "text/plain": [
       "'Hello I am Krishan\\n I am from Gurgaon\\n Study at Great learning'"
      ]
     },
     "execution_count": 64,
     "metadata": {},
     "output_type": "execute_result"
    }
   ],
   "source": [
    "'''Hello I am Krishan\n",
    " I am from Gurgaon\n",
    " Study at Great learning'''"
   ]
  },
  {
   "cell_type": "code",
   "execution_count": 3,
   "id": "7a78897c",
   "metadata": {},
   "outputs": [
    {
     "data": {
      "text/plain": [
       "'Hello I am Krishan\\nI am from Gurgaon\\nStudy at Great learning'"
      ]
     },
     "execution_count": 3,
     "metadata": {},
     "output_type": "execute_result"
    }
   ],
   "source": [
    "'''Hello I am Krishan\\nI am from Gurgaon\n",
    "Study at Great learning'''"
   ]
  },
  {
   "cell_type": "code",
   "execution_count": 51,
   "id": "e76c6ad5",
   "metadata": {},
   "outputs": [],
   "source": [
    "# Q. Run the following string with and without print() and compare the differences.\n",
    "\n",
    "# \"Look out! Don't trip over.\" Alice yelled.\n",
    "\n",
    "# 'My name is Alice\n",
    "# I live in paris\n",
    "# I would like to visit India'"
   ]
  },
  {
   "cell_type": "code",
   "execution_count": 56,
   "id": "c31d3c42",
   "metadata": {},
   "outputs": [
    {
     "data": {
      "text/plain": [
       "\"'My name is Alice\""
      ]
     },
     "execution_count": 56,
     "metadata": {},
     "output_type": "execute_result"
    }
   ],
   "source": [
    "'''\"Look out! Don't trip over.\" Alice yelled.'''\n",
    "\"'My name is Alice\"\n",
    "# 'My name is Alice\n",
    "# I live in paris\n",
    "# I would like to visit India'"
   ]
  },
  {
   "cell_type": "code",
   "execution_count": 61,
   "id": "60aea0db",
   "metadata": {},
   "outputs": [
    {
     "name": "stdout",
     "output_type": "stream",
     "text": [
      "\"Look out! Don't trip over.\" Alice yelled.\n",
      "'My name is Alice\n",
      "I live in paris\n",
      "I would like to visit India'\n",
      "\"Look out! Don't trip over.\" Alice yelled.\n"
     ]
    }
   ],
   "source": [
    "print('''\"Look out! Don't trip over.\" Alice yelled.''')\n",
    "\n",
    "print(\"'My name is Alice\")\n",
    "print('I live in paris')\n",
    "print(\"I would like to visit India'\")\n",
    "print('\"Look out! Don\\'t trip over.\" Alice yelled.')"
   ]
  },
  {
   "cell_type": "code",
   "execution_count": 74,
   "id": "2ee49c71",
   "metadata": {},
   "outputs": [
    {
     "name": "stdout",
     "output_type": "stream",
     "text": [
      "'My name is Alice'\n",
      "'I live in paris\n",
      "I would like to visit India\n"
     ]
    }
   ],
   "source": [
    "print(''''My name is Alice'\n",
    "'I live in paris\n",
    "I would like to visit India''')"
   ]
  },
  {
   "cell_type": "code",
   "execution_count": 75,
   "id": "1bacf254",
   "metadata": {},
   "outputs": [
    {
     "name": "stdout",
     "output_type": "stream",
     "text": [
      "My name is Alice\n",
      "I live in paris\n",
      "I would like to visit India\n"
     ]
    }
   ],
   "source": [
    "print('My name is Alice\\nI live in paris\\nI would like to visit India')"
   ]
  },
  {
   "cell_type": "code",
   "execution_count": 9,
   "id": "6524bed6",
   "metadata": {},
   "outputs": [
    {
     "name": "stdout",
     "output_type": "stream",
     "text": [
      "Hello_Lets meet_at_12\n"
     ]
    }
   ],
   "source": [
    "print('Hello','Lets meet','at',12,sep='_')"
   ]
  },
  {
   "cell_type": "code",
   "execution_count": 93,
   "id": "395f6b4a",
   "metadata": {},
   "outputs": [
    {
     "name": "stdout",
     "output_type": "stream",
     "text": [
      "Ajay-->23-->89.43\n"
     ]
    }
   ],
   "source": [
    "print('Ajay',23,89.43, sep='-->')"
   ]
  },
  {
   "cell_type": "code",
   "execution_count": 95,
   "id": "335db7a4",
   "metadata": {},
   "outputs": [
    {
     "name": "stdout",
     "output_type": "stream",
     "text": [
      "Ajay\n",
      "23\n",
      "89.43\n"
     ]
    }
   ],
   "source": [
    "print('Ajay',23,89.43, sep='\\n')"
   ]
  },
  {
   "cell_type": "code",
   "execution_count": 96,
   "id": "3f8574e4",
   "metadata": {},
   "outputs": [
    {
     "name": "stdout",
     "output_type": "stream",
     "text": [
      "Hello 65 12.23\n"
     ]
    }
   ],
   "source": [
    "print('Hello',end=' ')\n",
    "print(65,end=' ')\n",
    "print(12.23)"
   ]
  },
  {
   "cell_type": "markdown",
   "id": "27ef318f",
   "metadata": {},
   "source": [
    "# Q Display the following using single print()\n",
    "# one    two    three\n",
    "# four   five    six\n",
    "print('one','two','three\\nfour','five','six',sep='\\t')"
   ]
  },
  {
   "cell_type": "code",
   "execution_count": 12,
   "id": "1b8f795a",
   "metadata": {},
   "outputs": [
    {
     "name": "stdout",
     "output_type": "stream",
     "text": [
      "i live in gurgugram\n",
      "in sector 46\n"
     ]
    }
   ],
   "source": [
    "print('i live in gurgugram\\nin sector 46')"
   ]
  },
  {
   "cell_type": "code",
   "execution_count": 13,
   "id": "29fcc833",
   "metadata": {},
   "outputs": [
    {
     "name": "stdout",
     "output_type": "stream",
     "text": [
      "one\ttwo\tthree\n",
      "four\tfive\tsix\n"
     ]
    }
   ],
   "source": [
    "print('one','two','three\\nfour','five','six',sep='\\t')"
   ]
  },
  {
   "cell_type": "code",
   "execution_count": 15,
   "id": "d17da62a",
   "metadata": {},
   "outputs": [
    {
     "name": "stdout",
     "output_type": "stream",
     "text": [
      "one\n",
      "two\n",
      "three\n",
      "four\n",
      "five\n",
      "six\n"
     ]
    }
   ],
   "source": [
    "print('one\\ntwo\\nthree\\nfour\\nfive\\nsix')"
   ]
  },
  {
   "cell_type": "code",
   "execution_count": 106,
   "id": "cb05a1bf",
   "metadata": {},
   "outputs": [],
   "source": [
    "# Use of end and sep variable in print()\n",
    "# print date 21-8-2023"
   ]
  },
  {
   "cell_type": "code",
   "execution_count": 110,
   "id": "e2d1c82e",
   "metadata": {},
   "outputs": [
    {
     "name": "stdout",
     "output_type": "stream",
     "text": [
      "21-8-2023\n"
     ]
    }
   ],
   "source": [
    "print(21,8,2023,sep='-')"
   ]
  },
  {
   "cell_type": "code",
   "execution_count": 113,
   "id": "1c95a861",
   "metadata": {},
   "outputs": [
    {
     "name": "stdout",
     "output_type": "stream",
     "text": [
      "Ajay\n",
      "\n",
      "Vikas\n",
      "\n",
      "Mohan\n"
     ]
    }
   ],
   "source": [
    "# Print Ajay, vikas, mohan with a line gap in between\n",
    "print('Ajay',end='\\n\\n')\n",
    "print('Vikas',end='\\n\\n')\n",
    "print('Mohan')"
   ]
  },
  {
   "cell_type": "code",
   "execution_count": 119,
   "id": "0ef18943",
   "metadata": {},
   "outputs": [
    {
     "data": {
      "text/plain": [
       "56.34"
      ]
     },
     "execution_count": 119,
     "metadata": {},
     "output_type": "execute_result"
    }
   ],
   "source": [
    "a = 56.34\n",
    "# a= varable, '=' = assingment operator,  65 = value\n",
    "a"
   ]
  },
  {
   "cell_type": "code",
   "execution_count": 120,
   "id": "8c90ebf1",
   "metadata": {},
   "outputs": [
    {
     "data": {
      "text/plain": [
       "float"
      ]
     },
     "execution_count": 120,
     "metadata": {},
     "output_type": "execute_result"
    }
   ],
   "source": [
    "type(a)"
   ]
  },
  {
   "cell_type": "code",
   "execution_count": null,
   "id": "76e3c3ee",
   "metadata": {},
   "outputs": [],
   "source": [
    "# Take three variables name, age and marks and print the following\n",
    "# 'Ajay is 19 years old and he has scored 87% of marks'"
   ]
  },
  {
   "cell_type": "code",
   "execution_count": 129,
   "id": "47cb91f2",
   "metadata": {},
   "outputs": [
    {
     "name": "stdout",
     "output_type": "stream",
     "text": [
      "Ajay is 19 years old and he has scored 87 % of marks\n"
     ]
    }
   ],
   "source": [
    "name = 'Ajay'\n",
    "age = 19\n",
    "marks = 87\n",
    "print(name,'is',age, 'years old and he has scored',marks,'% of marks')"
   ]
  },
  {
   "cell_type": "code",
   "execution_count": 131,
   "id": "75c7bd4e",
   "metadata": {},
   "outputs": [],
   "source": [
    "a,b,c = 34,78,21"
   ]
  },
  {
   "cell_type": "code",
   "execution_count": 135,
   "id": "4c820814",
   "metadata": {},
   "outputs": [
    {
     "name": "stdout",
     "output_type": "stream",
     "text": [
      "34 78 21\n"
     ]
    }
   ],
   "source": [
    "print(a,b,c)"
   ]
  },
  {
   "cell_type": "code",
   "execution_count": 17,
   "id": "e94a7d1f",
   "metadata": {},
   "outputs": [],
   "source": [
    "rohit = mohit = ajay =21"
   ]
  },
  {
   "cell_type": "code",
   "execution_count": 19,
   "id": "50a941ba",
   "metadata": {},
   "outputs": [
    {
     "name": "stdout",
     "output_type": "stream",
     "text": [
      "21 21 21\n"
     ]
    }
   ],
   "source": [
    "print(rohit,mohit,ajay)"
   ]
  },
  {
   "cell_type": "code",
   "execution_count": 144,
   "id": "938bd15c",
   "metadata": {},
   "outputs": [
    {
     "name": "stdout",
     "output_type": "stream",
     "text": [
      "81 78\n"
     ]
    }
   ],
   "source": [
    "# Swap the values a = 78, b = 81 without using third variable\n",
    "a = 78\n",
    "b = 81\n",
    "a,b =b,a\n",
    "print(a,b)"
   ]
  },
  {
   "cell_type": "code",
   "execution_count": 150,
   "id": "63f65c67",
   "metadata": {},
   "outputs": [
    {
     "name": "stdout",
     "output_type": "stream",
     "text": [
      "Krishan Krishan Krishan\n"
     ]
    }
   ],
   "source": [
    "# Assign your name in three different variables in one line\n",
    "a = b = c ='Krishan'\n",
    "print(a,b,c)"
   ]
  },
  {
   "cell_type": "code",
   "execution_count": 151,
   "id": "ef84b9f8",
   "metadata": {},
   "outputs": [
    {
     "data": {
      "text/plain": [
       "89.068610849"
      ]
     },
     "execution_count": 151,
     "metadata": {},
     "output_type": "execute_result"
    }
   ],
   "source": [
    "23.6543 * 3.76543"
   ]
  },
  {
   "cell_type": "code",
   "execution_count": 153,
   "id": "e7f6b61d",
   "metadata": {},
   "outputs": [
    {
     "data": {
      "text/plain": [
       "38.0"
      ]
     },
     "execution_count": 153,
     "metadata": {},
     "output_type": "execute_result"
    }
   ],
   "source": [
    "76/2"
   ]
  },
  {
   "cell_type": "code",
   "execution_count": 155,
   "id": "c2b3edb0",
   "metadata": {},
   "outputs": [
    {
     "data": {
      "text/plain": [
       "38"
      ]
     },
     "execution_count": 155,
     "metadata": {},
     "output_type": "execute_result"
    }
   ],
   "source": [
    "76//2"
   ]
  },
  {
   "cell_type": "code",
   "execution_count": 157,
   "id": "82bbea78",
   "metadata": {},
   "outputs": [
    {
     "data": {
      "text/plain": [
       "2"
      ]
     },
     "execution_count": 157,
     "metadata": {},
     "output_type": "execute_result"
    }
   ],
   "source": [
    "78%4"
   ]
  },
  {
   "cell_type": "code",
   "execution_count": 158,
   "id": "9faefbea",
   "metadata": {},
   "outputs": [],
   "source": [
    "# Paranthesis: ()\n",
    "# Exponent: ** (R to L)\n",
    "# Modulus,Division,Multiplication: %,/,//,*  (L to R)\n",
    "# Addition, Subtraction: +,- (L to R)"
   ]
  },
  {
   "cell_type": "code",
   "execution_count": 164,
   "id": "25b15b79",
   "metadata": {},
   "outputs": [
    {
     "data": {
      "text/plain": [
       "4"
      ]
     },
     "execution_count": 164,
     "metadata": {},
     "output_type": "execute_result"
    }
   ],
   "source": [
    "# Write the expeted outcome of the following code\n",
    "# 8-3*2 = 2\n",
    "# 8//2+3*2 = 10\n",
    "# 10//2**2+3*2 = 8\n",
    "# 81//3**2**2 = 1\n",
    "# 8**2%(3+4)*2**2 = 4"
   ]
  },
  {
   "cell_type": "code",
   "execution_count": 1,
   "id": "2c405e64",
   "metadata": {},
   "outputs": [],
   "source": [
    "# Enter the price and qty of product and display the bill amount\n",
    "#if the product has 25% discount"
   ]
  },
  {
   "cell_type": "code",
   "execution_count": 2,
   "id": "d48e504f",
   "metadata": {},
   "outputs": [
    {
     "name": "stdout",
     "output_type": "stream",
     "text": [
      "Enter price of product500\n",
      "Enter quantity of product4\n",
      "Your total bill after discount:  1500.0\n"
     ]
    }
   ],
   "source": [
    "price = float(input('Enter price of product'))\n",
    "qty = float(input('Enter quantity of product'))\n",
    "bill = price*qty\n",
    "print('Your total bill after discount: ',bill*0.75)"
   ]
  },
  {
   "cell_type": "code",
   "execution_count": 11,
   "id": "efcb926a",
   "metadata": {},
   "outputs": [
    {
     "name": "stdout",
     "output_type": "stream",
     "text": [
      "Enter the price of product: 250\n",
      "Enter the qty of product: 4\n",
      "Your bill:  750.0\n"
     ]
    }
   ],
   "source": [
    "price = float(input('Enter the price of product: '))\n",
    "qty = int(input('Enter the qty of product: '))\n",
    "total_bill = price *qty\n",
    "print('Your bill: ',total_bill*0.75)"
   ]
  },
  {
   "cell_type": "markdown",
   "id": "1955d70e",
   "metadata": {},
   "source": [
    "## Relation Operator"
   ]
  },
  {
   "cell_type": "code",
   "execution_count": null,
   "id": "1e0c1f68",
   "metadata": {},
   "outputs": [],
   "source": [
    "# <,>,>=,<=,==,!="
   ]
  },
  {
   "cell_type": "code",
   "execution_count": 12,
   "id": "ed9dce0a",
   "metadata": {},
   "outputs": [
    {
     "data": {
      "text/plain": [
       "False"
      ]
     },
     "execution_count": 12,
     "metadata": {},
     "output_type": "execute_result"
    }
   ],
   "source": [
    "65>88"
   ]
  },
  {
   "cell_type": "code",
   "execution_count": 13,
   "id": "9f9ec0e7",
   "metadata": {},
   "outputs": [
    {
     "data": {
      "text/plain": [
       "False"
      ]
     },
     "execution_count": 13,
     "metadata": {},
     "output_type": "execute_result"
    }
   ],
   "source": [
    "'delhi'> 'mumbai'        # to check  ord('d') "
   ]
  },
  {
   "cell_type": "code",
   "execution_count": 14,
   "id": "a8bbbb3f",
   "metadata": {},
   "outputs": [
    {
     "data": {
      "text/plain": [
       "True"
      ]
     },
     "execution_count": 14,
     "metadata": {},
     "output_type": "execute_result"
    }
   ],
   "source": [
    "'gujrat'>'Gao'"
   ]
  },
  {
   "cell_type": "code",
   "execution_count": 15,
   "id": "4ee33279",
   "metadata": {},
   "outputs": [
    {
     "data": {
      "text/plain": [
       "False"
      ]
     },
     "execution_count": 15,
     "metadata": {},
     "output_type": "execute_result"
    }
   ],
   "source": [
    "'fair'=='fairly'"
   ]
  },
  {
   "cell_type": "code",
   "execution_count": 16,
   "id": "4d54c09c",
   "metadata": {},
   "outputs": [
    {
     "data": {
      "text/plain": [
       "True"
      ]
     },
     "execution_count": 16,
     "metadata": {},
     "output_type": "execute_result"
    }
   ],
   "source": [
    "'delhi'!='Delhi'"
   ]
  },
  {
   "cell_type": "code",
   "execution_count": 17,
   "id": "0afd438c",
   "metadata": {},
   "outputs": [],
   "source": [
    "# Q: If a = 12, b= 15, c = a+b and d = 2*a - b then write the output of the following\n",
    "# a<b          true\n",
    "# c>b          true\n",
    "# d==11        false\n",
    "# d<=c         true\n",
    "# 27>=b        true\n",
    "# a!=b         true"
   ]
  },
  {
   "cell_type": "code",
   "execution_count": 25,
   "id": "cf5a8136",
   "metadata": {},
   "outputs": [
    {
     "name": "stdout",
     "output_type": "stream",
     "text": [
      "12 15 27 9\n"
     ]
    }
   ],
   "source": [
    "a,b=12,15\n",
    "c=a+b\n",
    "d=2*a-b\n",
    "print(a,b,c,d)"
   ]
  },
  {
   "cell_type": "markdown",
   "id": "133a6ef1",
   "metadata": {},
   "source": [
    "## Logical Operator"
   ]
  },
  {
   "cell_type": "code",
   "execution_count": 26,
   "id": "2b1dcf70",
   "metadata": {},
   "outputs": [],
   "source": [
    "# OR Logic\n",
    "# True or True --> True\n",
    "# True or False -->True\n",
    "# False or True -->True\n",
    "# False or False-->False\n",
    "\n",
    "# AND Logic\n",
    "# True and True --> True\n",
    "# True and False -->False\n",
    "# False and True -->Fasle\n",
    "# False and False-->False\n",
    "\n",
    "# not logic\n",
    "# not True --> False\n",
    "# not False --> True"
   ]
  },
  {
   "cell_type": "code",
   "execution_count": 28,
   "id": "9d734ecc",
   "metadata": {},
   "outputs": [
    {
     "data": {
      "text/plain": [
       "True"
      ]
     },
     "execution_count": 28,
     "metadata": {},
     "output_type": "execute_result"
    }
   ],
   "source": [
    "False or True"
   ]
  },
  {
   "cell_type": "code",
   "execution_count": 29,
   "id": "d3a9580f",
   "metadata": {},
   "outputs": [
    {
     "data": {
      "text/plain": [
       "False"
      ]
     },
     "execution_count": 29,
     "metadata": {},
     "output_type": "execute_result"
    }
   ],
   "source": [
    "False and True"
   ]
  },
  {
   "cell_type": "code",
   "execution_count": 30,
   "id": "1f79b398",
   "metadata": {},
   "outputs": [],
   "source": [
    "# Write the output of the following\n",
    "# 78<98 or 6>=8        true\n",
    "# 8//3==2 and 81!=18   true\n",
    "# 7%5==3 and not(6//2==3)     false\n",
    "# 'Delhi' >'delhi' and 'mumbai'<'Mumbai' and 'dog'>'cat'  false"
   ]
  },
  {
   "cell_type": "code",
   "execution_count": 35,
   "id": "a5a01fa0",
   "metadata": {},
   "outputs": [
    {
     "data": {
      "text/plain": [
       "True"
      ]
     },
     "execution_count": 35,
     "metadata": {},
     "output_type": "execute_result"
    }
   ],
   "source": [
    "False or not False or False"
   ]
  },
  {
   "cell_type": "markdown",
   "id": "36372d90",
   "metadata": {},
   "source": [
    "## Bitwise Operator"
   ]
  },
  {
   "cell_type": "code",
   "execution_count": 40,
   "id": "4d13fdea",
   "metadata": {},
   "outputs": [],
   "source": [
    "# & --> Bitwise and\n",
    "# | --> Bitwise or"
   ]
  },
  {
   "cell_type": "code",
   "execution_count": null,
   "id": "8d04542c",
   "metadata": {},
   "outputs": [],
   "source": [
    "# bitwise &\n",
    "# 1 & 1 -->1\n",
    "# 1 & 0 -->0\n",
    "# 0 & 1 -->0\n",
    "# 0 & 0 -->0\n",
    "\n",
    "# bitwise |\n",
    "# 1 | 1 -->1\n",
    "# 1 | 0 -->1\n",
    "# 0 | 1 -->1\n",
    "# 0 | 0 -->0"
   ]
  },
  {
   "cell_type": "code",
   "execution_count": 56,
   "id": "93a1e56e",
   "metadata": {},
   "outputs": [
    {
     "data": {
      "text/plain": [
       "'0b1000'"
      ]
     },
     "execution_count": 56,
     "metadata": {},
     "output_type": "execute_result"
    }
   ],
   "source": [
    "bin(8)  #-- check binary representation"
   ]
  },
  {
   "cell_type": "code",
   "execution_count": 39,
   "id": "f033e8cb",
   "metadata": {},
   "outputs": [
    {
     "data": {
      "text/plain": [
       "5"
      ]
     },
     "execution_count": 39,
     "metadata": {},
     "output_type": "execute_result"
    }
   ],
   "source": [
    "7&5"
   ]
  },
  {
   "cell_type": "code",
   "execution_count": 41,
   "id": "2d386177",
   "metadata": {},
   "outputs": [
    {
     "data": {
      "text/plain": [
       "7"
      ]
     },
     "execution_count": 41,
     "metadata": {},
     "output_type": "execute_result"
    }
   ],
   "source": [
    "7|5"
   ]
  },
  {
   "cell_type": "code",
   "execution_count": 6,
   "id": "339680fb",
   "metadata": {},
   "outputs": [
    {
     "data": {
      "text/plain": [
       "5"
      ]
     },
     "execution_count": 6,
     "metadata": {},
     "output_type": "execute_result"
    }
   ],
   "source": [
    "5|4"
   ]
  },
  {
   "cell_type": "code",
   "execution_count": 3,
   "id": "215f0381",
   "metadata": {},
   "outputs": [
    {
     "data": {
      "text/plain": [
       "'0b101'"
      ]
     },
     "execution_count": 3,
     "metadata": {},
     "output_type": "execute_result"
    }
   ],
   "source": [
    "bin(5)\n"
   ]
  },
  {
   "cell_type": "code",
   "execution_count": 4,
   "id": "c7332d57",
   "metadata": {},
   "outputs": [
    {
     "data": {
      "text/plain": [
       "'0b100'"
      ]
     },
     "execution_count": 4,
     "metadata": {},
     "output_type": "execute_result"
    }
   ],
   "source": [
    "bin(4)"
   ]
  },
  {
   "cell_type": "code",
   "execution_count": 45,
   "id": "35eeb4fe",
   "metadata": {},
   "outputs": [
    {
     "data": {
      "text/plain": [
       "23"
      ]
     },
     "execution_count": 45,
     "metadata": {},
     "output_type": "execute_result"
    }
   ],
   "source": [
    "23&31\n",
    "# 23 --> 10111\n",
    "# 31 --> 11111\n",
    "# out --> 10111   --> 23"
   ]
  },
  {
   "cell_type": "code",
   "execution_count": 47,
   "id": "1b037d75",
   "metadata": {},
   "outputs": [
    {
     "data": {
      "text/plain": [
       "3"
      ]
     },
     "execution_count": 47,
     "metadata": {},
     "output_type": "execute_result"
    }
   ],
   "source": [
    "35&31\n",
    "# 35 --> 100011\n",
    "# 31 --> 011111  (0 is use to equal the number of digit)\n",
    "# & out --> 000011  --> 3\n",
    "# | out--> 111111 --> 63\n",
    "# to check vise versa --> int(0b11)"
   ]
  },
  {
   "cell_type": "code",
   "execution_count": 57,
   "id": "1e446340",
   "metadata": {},
   "outputs": [
    {
     "data": {
      "text/plain": [
       "'0b1111001'"
      ]
     },
     "execution_count": 57,
     "metadata": {},
     "output_type": "execute_result"
    }
   ],
   "source": [
    "bin(121)"
   ]
  },
  {
   "cell_type": "code",
   "execution_count": 64,
   "id": "97f64523",
   "metadata": {},
   "outputs": [
    {
     "name": "stdout",
     "output_type": "stream",
     "text": [
      "0b111001\n",
      "0b1111001\n"
     ]
    }
   ],
   "source": [
    "print(bin(57))\n",
    "print(bin(121))"
   ]
  },
  {
   "cell_type": "code",
   "execution_count": 63,
   "id": "204a41ba",
   "metadata": {},
   "outputs": [
    {
     "data": {
      "text/plain": [
       "57"
      ]
     },
     "execution_count": 63,
     "metadata": {},
     "output_type": "execute_result"
    }
   ],
   "source": [
    "57&121\n",
    "# 0111001"
   ]
  },
  {
   "cell_type": "code",
   "execution_count": 73,
   "id": "e1f11880",
   "metadata": {},
   "outputs": [
    {
     "data": {
      "text/plain": [
       "'0b1101111'"
      ]
     },
     "execution_count": 73,
     "metadata": {},
     "output_type": "execute_result"
    }
   ],
   "source": [
    "bin(111)"
   ]
  },
  {
   "cell_type": "code",
   "execution_count": 74,
   "id": "4a9f19c1",
   "metadata": {},
   "outputs": [
    {
     "data": {
      "text/plain": [
       "'0b1100100'"
      ]
     },
     "execution_count": 74,
     "metadata": {},
     "output_type": "execute_result"
    }
   ],
   "source": [
    "bin(100)"
   ]
  },
  {
   "cell_type": "code",
   "execution_count": 75,
   "id": "e0a65182",
   "metadata": {},
   "outputs": [
    {
     "data": {
      "text/plain": [
       "100"
      ]
     },
     "execution_count": 75,
     "metadata": {},
     "output_type": "execute_result"
    }
   ],
   "source": [
    "111&100\n",
    "# --> 1100100"
   ]
  },
  {
   "cell_type": "markdown",
   "id": "04480406",
   "metadata": {},
   "source": [
    "## Membership Operator"
   ]
  },
  {
   "cell_type": "code",
   "execution_count": 77,
   "id": "59785332",
   "metadata": {},
   "outputs": [],
   "source": [
    "# in , not in"
   ]
  },
  {
   "cell_type": "code",
   "execution_count": 79,
   "id": "556545db",
   "metadata": {},
   "outputs": [
    {
     "data": {
      "text/plain": [
       "True"
      ]
     },
     "execution_count": 79,
     "metadata": {},
     "output_type": "execute_result"
    }
   ],
   "source": [
    "'m' in'mumbai'"
   ]
  },
  {
   "cell_type": "code",
   "execution_count": 80,
   "id": "876935fe",
   "metadata": {},
   "outputs": [
    {
     "data": {
      "text/plain": [
       "False"
      ]
     },
     "execution_count": 80,
     "metadata": {},
     "output_type": "execute_result"
    }
   ],
   "source": [
    "'D' in 'delhi'"
   ]
  },
  {
   "cell_type": "code",
   "execution_count": 10,
   "id": "e5194131",
   "metadata": {},
   "outputs": [
    {
     "name": "stdout",
     "output_type": "stream",
     "text": [
      "True\n",
      "False\n"
     ]
    }
   ],
   "source": [
    "string = 'Krishan'\n",
    "var = 'Kr'\n",
    "print(var in string)\n",
    "print(var not in string)"
   ]
  },
  {
   "cell_type": "code",
   "execution_count": 81,
   "id": "ad2d9db7",
   "metadata": {},
   "outputs": [
    {
     "data": {
      "text/plain": [
       "False"
      ]
     },
     "execution_count": 81,
     "metadata": {},
     "output_type": "execute_result"
    }
   ],
   "source": [
    "'k' not in 'knife'"
   ]
  },
  {
   "cell_type": "code",
   "execution_count": 82,
   "id": "4ff3f701",
   "metadata": {},
   "outputs": [
    {
     "data": {
      "text/plain": [
       "True"
      ]
     },
     "execution_count": 82,
     "metadata": {},
     "output_type": "execute_result"
    }
   ],
   "source": [
    "12 in [34,56,32,53,12]"
   ]
  },
  {
   "cell_type": "code",
   "execution_count": 83,
   "id": "d86fcbb7",
   "metadata": {},
   "outputs": [
    {
     "data": {
      "text/plain": [
       "False"
      ]
     },
     "execution_count": 83,
     "metadata": {},
     "output_type": "execute_result"
    }
   ],
   "source": [
    "12 not in [34,56,32,53,12]"
   ]
  },
  {
   "cell_type": "code",
   "execution_count": 85,
   "id": "2d761fe7",
   "metadata": {},
   "outputs": [
    {
     "data": {
      "text/plain": [
       "True"
      ]
     },
     "execution_count": 85,
     "metadata": {},
     "output_type": "execute_result"
    }
   ],
   "source": [
    "'hello' not in [34,56,32,53,12,'hi']"
   ]
  },
  {
   "cell_type": "markdown",
   "id": "fe4d5c51",
   "metadata": {},
   "source": [
    "## More Assingment Operator"
   ]
  },
  {
   "cell_type": "code",
   "execution_count": 97,
   "id": "bcfac936",
   "metadata": {},
   "outputs": [],
   "source": [
    "a= 23\n",
    "b=56"
   ]
  },
  {
   "cell_type": "code",
   "execution_count": 93,
   "id": "9638e0b3",
   "metadata": {},
   "outputs": [
    {
     "data": {
      "text/plain": [
       "25"
      ]
     },
     "execution_count": 93,
     "metadata": {},
     "output_type": "execute_result"
    }
   ],
   "source": [
    "# a = a+2\n",
    "a+=2\n",
    "a"
   ]
  },
  {
   "cell_type": "code",
   "execution_count": 98,
   "id": "f1386624",
   "metadata": {},
   "outputs": [
    {
     "data": {
      "text/plain": [
       "100"
      ]
     },
     "execution_count": 98,
     "metadata": {},
     "output_type": "execute_result"
    }
   ],
   "source": [
    "# b = b-6\n",
    "b -= 6\n",
    "b*= 2\n",
    "b"
   ]
  },
  {
   "cell_type": "code",
   "execution_count": 99,
   "id": "43458ce0",
   "metadata": {},
   "outputs": [
    {
     "data": {
      "text/plain": [
       "100"
      ]
     },
     "execution_count": 99,
     "metadata": {},
     "output_type": "execute_result"
    }
   ],
   "source": [
    "b"
   ]
  },
  {
   "cell_type": "code",
   "execution_count": 1,
   "id": "bc2551a9",
   "metadata": {},
   "outputs": [],
   "source": [
    "name = 'krishan'"
   ]
  },
  {
   "cell_type": "code",
   "execution_count": 2,
   "id": "c9696908",
   "metadata": {},
   "outputs": [],
   "source": [
    "names = name"
   ]
  },
  {
   "cell_type": "code",
   "execution_count": 3,
   "id": "679f1c7c",
   "metadata": {},
   "outputs": [
    {
     "name": "stdout",
     "output_type": "stream",
     "text": [
      "krishan\n"
     ]
    }
   ],
   "source": [
    "print(names)"
   ]
  },
  {
   "cell_type": "code",
   "execution_count": 4,
   "id": "263fd826",
   "metadata": {},
   "outputs": [
    {
     "name": "stdout",
     "output_type": "stream",
     "text": [
      "krishan\n"
     ]
    }
   ],
   "source": [
    "print(name)"
   ]
  }
 ],
 "metadata": {
  "kernelspec": {
   "display_name": "Python 3 (ipykernel)",
   "language": "python",
   "name": "python3"
  },
  "language_info": {
   "codemirror_mode": {
    "name": "ipython",
    "version": 3
   },
   "file_extension": ".py",
   "mimetype": "text/x-python",
   "name": "python",
   "nbconvert_exporter": "python",
   "pygments_lexer": "ipython3",
   "version": "3.11.5"
  }
 },
 "nbformat": 4,
 "nbformat_minor": 5
}
