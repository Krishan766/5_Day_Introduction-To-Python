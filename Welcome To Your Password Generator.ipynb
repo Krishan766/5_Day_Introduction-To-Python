{
 "cells": [
  {
   "cell_type": "code",
   "execution_count": 8,
   "id": "b970b305",
   "metadata": {},
   "outputs": [
    {
     "name": "stdout",
     "output_type": "stream",
     "text": [
      "Welcome To Your Password Generator\n",
      "Amount of password to Generate6\n",
      "Your pass wrd length10\n",
      "\n",
      "here are your passwords:\n",
      ".WUV1H?*IT\n",
      "PSKQjI(Kk)\n",
      "4D6Q&8tNih\n",
      "*m@Qx9To,H\n",
      "E&)RB7u8jP\n",
      "@%(.ohas4p\n"
     ]
    }
   ],
   "source": [
    "import random\n",
    "print('Welcome To Your Password Generator')\n",
    "chars='abcdefghijklmnopqrstuvwxyzABCDEFGHIJKLMNOPQRSTUVWXYZ!@$%^&*().,?0123456789'\n",
    "number = int(input('Amount of password to Generate'))\n",
    "length = int(input('Your pass wrd length'))\n",
    "print('\\nhere are your passwords:')\n",
    "for pwd in range(number):\n",
    "    passwords=''\n",
    "    for c in range(length):\n",
    "        passwords+=random.choice(chars)\n",
    "    print(passwords)"
   ]
  }
 ],
 "metadata": {
  "kernelspec": {
   "display_name": "Python 3 (ipykernel)",
   "language": "python",
   "name": "python3"
  },
  "language_info": {
   "codemirror_mode": {
    "name": "ipython",
    "version": 3
   },
   "file_extension": ".py",
   "mimetype": "text/x-python",
   "name": "python",
   "nbconvert_exporter": "python",
   "pygments_lexer": "ipython3",
   "version": "3.10.9"
  }
 },
 "nbformat": 4,
 "nbformat_minor": 5
}
