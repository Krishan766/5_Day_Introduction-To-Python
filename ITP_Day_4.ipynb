{
 "cells": [
  {
   "cell_type": "markdown",
   "id": "a0ce2120",
   "metadata": {},
   "source": [
    "## List Comprehension"
   ]
  },
  {
   "cell_type": "raw",
   "id": "e8284eb7",
   "metadata": {},
   "source": [
    "What is a list comprehension?\n",
    "● A list comprehension provides a concise way to create another list\n",
    "● Using list comprehensions reduces the number of code lines making it. It look more \n",
    "elegant\n",
    "● It is possible to use conditions in a list comprehension\n",
    "● The list comprehension always returns a list"
   ]
  },
  {
   "cell_type": "code",
   "execution_count": 1,
   "id": "1af05358",
   "metadata": {},
   "outputs": [
    {
     "data": {
      "text/plain": [
       "[27, 64]"
      ]
     },
     "execution_count": 1,
     "metadata": {},
     "output_type": "execute_result"
    }
   ],
   "source": [
    "[i**3 for i in [1,2,3,4] if i>2]"
   ]
  },
  {
   "cell_type": "code",
   "execution_count": 5,
   "id": "db21b7a0",
   "metadata": {},
   "outputs": [],
   "source": [
    "li = [1,2,3,4]"
   ]
  },
  {
   "cell_type": "code",
   "execution_count": 1,
   "id": "131bec09",
   "metadata": {},
   "outputs": [],
   "source": [
    "li = [1,2,3,4]"
   ]
  },
  {
   "cell_type": "code",
   "execution_count": 4,
   "id": "e488efb6",
   "metadata": {},
   "outputs": [
    {
     "data": {
      "text/plain": [
       "[27, 64]"
      ]
     },
     "execution_count": 4,
     "metadata": {},
     "output_type": "execute_result"
    }
   ],
   "source": [
    "[i**3 for i in li if i>2]"
   ]
  },
  {
   "cell_type": "code",
   "execution_count": 4,
   "id": "60b9f9de",
   "metadata": {},
   "outputs": [
    {
     "data": {
      "text/plain": [
       "[4, 9, 16, 25]"
      ]
     },
     "execution_count": 4,
     "metadata": {},
     "output_type": "execute_result"
    }
   ],
   "source": [
    "li = [2,3,4,5]    #[4,9,16,25]\n",
    "l =[]\n",
    "for i in li:\n",
    "    l.append(i**2)\n",
    "l"
   ]
  },
  {
   "cell_type": "code",
   "execution_count": 5,
   "id": "4616b4fd",
   "metadata": {},
   "outputs": [
    {
     "data": {
      "text/plain": [
       "[4, 9, 16, 25]"
      ]
     },
     "execution_count": 5,
     "metadata": {},
     "output_type": "execute_result"
    }
   ],
   "source": [
    "[i**2 for i in li]"
   ]
  },
  {
   "cell_type": "code",
   "execution_count": 10,
   "id": "defccf87",
   "metadata": {},
   "outputs": [
    {
     "data": {
      "text/plain": [
       "[7, 8, 9, 10]"
      ]
     },
     "execution_count": 10,
     "metadata": {},
     "output_type": "execute_result"
    }
   ],
   "source": [
    "# [2,3,4,5] to [7,8,9,10]\n",
    "[i+5 for i in li]"
   ]
  },
  {
   "cell_type": "code",
   "execution_count": null,
   "id": "d629ba6f",
   "metadata": {},
   "outputs": [],
   "source": [
    "# Syntax 1:   [value for value in iterable]                \n",
    "# Syntax 2:   [value for value in iterable if condition]   {used to filter the list}   \n",
    "# Syntax 3:   [val1 if cond else val2 for i in iterable]   {used to map the values over iterable}"
   ]
  },
  {
   "cell_type": "code",
   "execution_count": 1,
   "id": "1648d425",
   "metadata": {},
   "outputs": [
    {
     "data": {
      "text/plain": [
       "[3, 6, 9, 12, 15, 18, 21, 24]"
      ]
     },
     "execution_count": 1,
     "metadata": {},
     "output_type": "execute_result"
    }
   ],
   "source": [
    "# create a list with multiple of 3 from 1 to 25     --> example ofsyntax 2  \n",
    "li=[]\n",
    "for i in range(1,26):\n",
    "    if i%3==0:\n",
    "        li.append(i)\n",
    "li"
   ]
  },
  {
   "cell_type": "code",
   "execution_count": 17,
   "id": "5e6f4da5",
   "metadata": {},
   "outputs": [
    {
     "data": {
      "text/plain": [
       "[3, 6, 9, 12, 15, 18, 21, 24]"
      ]
     },
     "execution_count": 17,
     "metadata": {},
     "output_type": "execute_result"
    }
   ],
   "source": [
    "[i for i in range(1,26) if i%3==0]   #--> above question"
   ]
  },
  {
   "cell_type": "code",
   "execution_count": 2,
   "id": "1ef3a0b3",
   "metadata": {},
   "outputs": [
    {
     "data": {
      "text/plain": [
       "[10, 11, 12, 13, 14, 15]"
      ]
     },
     "execution_count": 2,
     "metadata": {},
     "output_type": "execute_result"
    }
   ],
   "source": [
    "[i for i in range(10,16)]  # Eg Syntax 1"
   ]
  },
  {
   "cell_type": "code",
   "execution_count": 3,
   "id": "e3828f26",
   "metadata": {},
   "outputs": [
    {
     "data": {
      "text/plain": [
       "[0, 1, 4, 9, 16]"
      ]
     },
     "execution_count": 3,
     "metadata": {},
     "output_type": "execute_result"
    }
   ],
   "source": [
    "[i**2 for i in range(5)]   # Eg Syntax 1"
   ]
  },
  {
   "cell_type": "code",
   "execution_count": 10,
   "id": "3467831f",
   "metadata": {},
   "outputs": [
    {
     "data": {
      "text/plain": [
       "[25, 45, 58, 14, 90]"
      ]
     },
     "execution_count": 10,
     "metadata": {},
     "output_type": "execute_result"
    }
   ],
   "source": [
    "[i+2 for i in [23,43,56,12,88]] # Eg syntax 1"
   ]
  },
  {
   "cell_type": "code",
   "execution_count": 7,
   "id": "e3b5fe83",
   "metadata": {},
   "outputs": [
    {
     "data": {
      "text/plain": [
       "[3, 6, 9, 12, 15, 18]"
      ]
     },
     "execution_count": 7,
     "metadata": {},
     "output_type": "execute_result"
    }
   ],
   "source": [
    "[i for i in range(1,21) if i%3==0] # Eg syntax 2"
   ]
  },
  {
   "cell_type": "code",
   "execution_count": 19,
   "id": "5631451d",
   "metadata": {},
   "outputs": [
    {
     "data": {
      "text/plain": [
       "[58, 14, 90]"
      ]
     },
     "execution_count": 19,
     "metadata": {},
     "output_type": "execute_result"
    }
   ],
   "source": [
    "[i+2 for i in [23,43,56,12,88] if i%2==0] # Eg syntax 2"
   ]
  },
  {
   "cell_type": "code",
   "execution_count": 29,
   "id": "37455c4a",
   "metadata": {},
   "outputs": [
    {
     "data": {
      "text/plain": [
       "['Even', 'Even', 'odd', 'Even', 'odd']"
      ]
     },
     "execution_count": 29,
     "metadata": {},
     "output_type": "execute_result"
    }
   ],
   "source": [
    "li= [2,44,33,56,765]\n",
    "['Even' if i%2==0 else 'odd' for i in li]"
   ]
  },
  {
   "cell_type": "code",
   "execution_count": 30,
   "id": "75bdf95c",
   "metadata": {},
   "outputs": [
    {
     "data": {
      "text/plain": [
       "[23, 43, 58, 14, 90]"
      ]
     },
     "execution_count": 30,
     "metadata": {},
     "output_type": "execute_result"
    }
   ],
   "source": [
    "[i+2 if i%2==0 else i for i in [23,43,56,12,88]] # Eg syntax 3"
   ]
  },
  {
   "cell_type": "code",
   "execution_count": 31,
   "id": "abde45ca",
   "metadata": {},
   "outputs": [
    {
     "data": {
      "text/plain": [
       "['Odd', 'Even', 'Odd', 'Even', 'Even', 'Odd', 'Even', 'Odd', 'Even']"
      ]
     },
     "execution_count": 31,
     "metadata": {},
     "output_type": "execute_result"
    }
   ],
   "source": [
    "['Odd' if i%2==1 else 'Even' for i in [3,6,9,12,18,21,24,27,30]]  # Eg syntax 3"
   ]
  },
  {
   "cell_type": "raw",
   "id": "b335d976",
   "metadata": {},
   "source": [
    "Q. Print a list between 1 to 50 where all the values are multiple of 3 and 5 both"
   ]
  },
  {
   "cell_type": "code",
   "execution_count": 20,
   "id": "db13c24b",
   "metadata": {},
   "outputs": [
    {
     "data": {
      "text/plain": [
       "[15, 30, 45]"
      ]
     },
     "execution_count": 20,
     "metadata": {},
     "output_type": "execute_result"
    }
   ],
   "source": [
    "[i for i in range(1,50) if i%3==0 and i%5==0]"
   ]
  },
  {
   "cell_type": "raw",
   "id": "a034c6b0",
   "metadata": {},
   "source": [
    "Q. li = ['Apple','Kiwi','Mango','Banana','Papaya','Pear'] create a list of all the fruits which have 'a' in name"
   ]
  },
  {
   "cell_type": "code",
   "execution_count": 11,
   "id": "4ca0299b",
   "metadata": {},
   "outputs": [
    {
     "data": {
      "text/plain": [
       "['Apple', 'Mango', 'Banana', 'Papaya', 'Pear']"
      ]
     },
     "execution_count": 11,
     "metadata": {},
     "output_type": "execute_result"
    }
   ],
   "source": [
    "li = ['Apple','Kiwi','Mango','Banana','Papaya','Pear']\n",
    "[i for i in li if 'a' in i.lower() ]"
   ]
  },
  {
   "cell_type": "raw",
   "id": "3212ed53",
   "metadata": {},
   "source": [
    "Q. Create a new list with the no of characters in each fruit name"
   ]
  },
  {
   "cell_type": "code",
   "execution_count": 26,
   "id": "a9ddc35d",
   "metadata": {},
   "outputs": [
    {
     "data": {
      "text/plain": [
       "[5, 4, 5, 6, 6, 4]"
      ]
     },
     "execution_count": 26,
     "metadata": {},
     "output_type": "execute_result"
    }
   ],
   "source": [
    "li = ['Apple','Kiwi','Mango','Banana','Papaya','Pear']\n",
    "[len(i) for i in li]"
   ]
  },
  {
   "cell_type": "raw",
   "id": "5ea55c17",
   "metadata": {},
   "source": [
    "Q. Print the cube of first 10 numbers"
   ]
  },
  {
   "cell_type": "code",
   "execution_count": 27,
   "id": "da778655",
   "metadata": {},
   "outputs": [
    {
     "data": {
      "text/plain": [
       "[1, 8, 27, 64, 125, 216, 343, 512, 729, 1000]"
      ]
     },
     "execution_count": 27,
     "metadata": {},
     "output_type": "execute_result"
    }
   ],
   "source": [
    "[i**3 for i in range(1,11) ]"
   ]
  },
  {
   "cell_type": "code",
   "execution_count": 14,
   "id": "260104f3",
   "metadata": {},
   "outputs": [],
   "source": [
    "strings = ['baby','muscle','dalmations101','hulk3','titanic']"
   ]
  },
  {
   "cell_type": "raw",
   "id": "9b347695",
   "metadata": {},
   "source": [
    "Q. strings = ['baby','muscle','dalmations101','hulk3','titanic']  create a list with value alphabet if movie name has only alphabets and 'alphanumber' if movie name has alphabets and number"
   ]
  },
  {
   "cell_type": "code",
   "execution_count": 41,
   "id": "fa3008bb",
   "metadata": {},
   "outputs": [
    {
     "data": {
      "text/plain": [
       "['Alphabets', 'Alphabets', 'Alphanumber', 'Alphanumber', 'Alphabets']"
      ]
     },
     "execution_count": 41,
     "metadata": {},
     "output_type": "execute_result"
    }
   ],
   "source": [
    "strings = ['baby','muscle','dalmations101','hulk3','titanic']\n",
    "['Alphabets' if i.isalpha() else 'Alphanumber' for i in strings]"
   ]
  },
  {
   "cell_type": "code",
   "execution_count": 10,
   "id": "a1389971",
   "metadata": {},
   "outputs": [
    {
     "data": {
      "text/plain": [
       "['Alphanum', 'Alphanum', 'Alphanum', 'Alphanum', 'Alphanum']"
      ]
     },
     "execution_count": 10,
     "metadata": {},
     "output_type": "execute_result"
    }
   ],
   "source": [
    "strings = ['baby','muscle','dalmations101','hulk3','titanic']\n",
    "['Alphanum' if  i.isalnum() else 'Alpha' for i in strings]"
   ]
  },
  {
   "cell_type": "raw",
   "id": "162e5bb8",
   "metadata": {},
   "source": [
    "Q. [-2,9,3,0,7,-4,0,5], create a list with values neg if number is negative pos if number is positive else zero."
   ]
  },
  {
   "cell_type": "code",
   "execution_count": 22,
   "id": "07146f69",
   "metadata": {},
   "outputs": [],
   "source": [
    "li = [-2,9,3,0,7,-4,0,5]"
   ]
  },
  {
   "cell_type": "code",
   "execution_count": 21,
   "id": "6584cf7f",
   "metadata": {},
   "outputs": [
    {
     "data": {
      "text/plain": [
       "['Even', 'Odd', 'Odd', 'Odd', 'Even', 'Odd']"
      ]
     },
     "execution_count": 21,
     "metadata": {},
     "output_type": "execute_result"
    }
   ],
   "source": [
    "['Even' if i%2==0 else 'Zero' if i ==0 else 'Odd' for i in li]"
   ]
  },
  {
   "cell_type": "code",
   "execution_count": 24,
   "id": "6b769561",
   "metadata": {},
   "outputs": [
    {
     "data": {
      "text/plain": [
       "['Neg', 'Pos', 'Pos', 'Zero', 'Pos', 'Neg', 'Zero', 'Pos']"
      ]
     },
     "execution_count": 24,
     "metadata": {},
     "output_type": "execute_result"
    }
   ],
   "source": [
    "['Pos' if i>0 else 'Neg' if i<0 else 'Zero' for i in li]"
   ]
  },
  {
   "cell_type": "code",
   "execution_count": null,
   "id": "406862a9",
   "metadata": {},
   "outputs": [],
   "source": []
  },
  {
   "cell_type": "code",
   "execution_count": 43,
   "id": "14f0bc0f",
   "metadata": {},
   "outputs": [
    {
     "data": {
      "text/plain": [
       "['Neg', 'Pos', 'Pos', 'Pos', 'Pos', 'Neg', 'Pos', 'Pos']"
      ]
     },
     "execution_count": 43,
     "metadata": {},
     "output_type": "execute_result"
    }
   ],
   "source": [
    "['Pos' if i>=0 else 'Neg' for i in [-2,9,3,0,7,-4,0,5]]"
   ]
  },
  {
   "cell_type": "code",
   "execution_count": 44,
   "id": "fc8fa132",
   "metadata": {},
   "outputs": [
    {
     "data": {
      "text/plain": [
       "['Neg', 'Pos', 'Pos', 'zero', 'Pos', 'Neg', 'zero', 'Pos']"
      ]
     },
     "execution_count": 44,
     "metadata": {},
     "output_type": "execute_result"
    }
   ],
   "source": [
    "['Pos' if i>0 else 'Neg' if i<0 else 'zero' for i in [-2,9,3,0,7,-4,0,5]]"
   ]
  },
  {
   "cell_type": "code",
   "execution_count": 49,
   "id": "1a5d24d7",
   "metadata": {},
   "outputs": [
    {
     "data": {
      "text/plain": [
       "['Acid', 'Acid', 'Basic', 'Acid', 'Neutral', 'Acid', 'Basic', 'Neutral']"
      ]
     },
     "execution_count": 49,
     "metadata": {},
     "output_type": "execute_result"
    }
   ],
   "source": [
    "ph = [3,5,8.9,1.2,7,6.3,11,7] # mp acid basic and neutral\n",
    "['Acid' if i<7 else 'Basic' if i>7 else 'Neutral' for i in ph ]"
   ]
  },
  {
   "cell_type": "code",
   "execution_count": 3,
   "id": "ccd433b6",
   "metadata": {},
   "outputs": [
    {
     "data": {
      "text/plain": [
       "['Acid', 'Acid', 'Basic', 'Acid', 'Neutral', 'Acid', 'Basic', 'Neutral']"
      ]
     },
     "execution_count": 3,
     "metadata": {},
     "output_type": "execute_result"
    }
   ],
   "source": [
    "ph = [3,5,8.9,1.2,7,6.3,11,7]\n",
    "['Acid' if i<7 else 'Basic' if i>7 else 'Neutral' for i in ph]"
   ]
  },
  {
   "cell_type": "code",
   "execution_count": null,
   "id": "eb910f02",
   "metadata": {},
   "outputs": [],
   "source": []
  },
  {
   "cell_type": "code",
   "execution_count": null,
   "id": "93e9b06f",
   "metadata": {},
   "outputs": [],
   "source": []
  },
  {
   "cell_type": "raw",
   "id": "293fef9d",
   "metadata": {},
   "source": [
    "Q. name =['Ajay','Neha', 'Mukesh', 'Swati']\n",
    "marks = [67,89,90,76]\n",
    "create a dictionary with two lists using list comprehension"
   ]
  },
  {
   "cell_type": "code",
   "execution_count": 27,
   "id": "a7074990",
   "metadata": {},
   "outputs": [],
   "source": [
    "name =['Ajay','Neha', 'Mukesh', 'Swati']\n",
    "marks = [67,89,90,76]"
   ]
  },
  {
   "cell_type": "code",
   "execution_count": 53,
   "id": "bc64eec7",
   "metadata": {},
   "outputs": [
    {
     "data": {
      "text/plain": [
       "{'Ajay': 67, 'Neha': 89, 'Mukesh': 90, 'Swati': 76}"
      ]
     },
     "execution_count": 53,
     "metadata": {},
     "output_type": "execute_result"
    }
   ],
   "source": [
    "d={}\n",
    "for k,v in zip(name,marks):\n",
    "    d[k] = v\n",
    "d"
   ]
  },
  {
   "cell_type": "code",
   "execution_count": 32,
   "id": "e73e2543",
   "metadata": {},
   "outputs": [
    {
     "data": {
      "text/plain": [
       "{'Ajay': 67, 'Neha': 89, 'Mukesh': 90, 'Swati': 76}"
      ]
     },
     "execution_count": 32,
     "metadata": {},
     "output_type": "execute_result"
    }
   ],
   "source": [
    "{k:v for k,v in zip(name,marks)}"
   ]
  },
  {
   "cell_type": "code",
   "execution_count": 52,
   "id": "3fc9020b",
   "metadata": {},
   "outputs": [
    {
     "data": {
      "text/plain": [
       "{'Ajay': 67, 'Neha': 89, 'Mukesh': 90, 'Swati': 76}"
      ]
     },
     "execution_count": 52,
     "metadata": {},
     "output_type": "execute_result"
    }
   ],
   "source": [
    "{k:v for k,v in zip(name,marks)}"
   ]
  },
  {
   "cell_type": "raw",
   "id": "d8c736a4",
   "metadata": {},
   "source": [
    "Q. create a dictionary where key is a fruit name and value is the length of the fruit name\n",
    "fruit = ['Apple','Kiwi','Mango','Banana','Papaya','Pear']"
   ]
  },
  {
   "cell_type": "code",
   "execution_count": 33,
   "id": "af48e1dc",
   "metadata": {},
   "outputs": [],
   "source": [
    "fruit = ['Apple','Kiwi','Mango','Banana','Papaya','Pear']"
   ]
  },
  {
   "cell_type": "code",
   "execution_count": 34,
   "id": "7c836961",
   "metadata": {},
   "outputs": [
    {
     "data": {
      "text/plain": [
       "{'Apple': 5, 'Kiwi': 4, 'Mango': 5, 'Banana': 6, 'Papaya': 6, 'Pear': 4}"
      ]
     },
     "execution_count": 34,
     "metadata": {},
     "output_type": "execute_result"
    }
   ],
   "source": [
    "{k:len(k) for k in fruit}"
   ]
  },
  {
   "cell_type": "code",
   "execution_count": null,
   "id": "108da515",
   "metadata": {},
   "outputs": [],
   "source": []
  },
  {
   "cell_type": "code",
   "execution_count": null,
   "id": "1fbdc502",
   "metadata": {},
   "outputs": [],
   "source": []
  },
  {
   "cell_type": "code",
   "execution_count": 66,
   "id": "361f7cfb",
   "metadata": {},
   "outputs": [
    {
     "data": {
      "text/plain": [
       "{'Apple': 5, 'Kiwi': 4, 'Mango': 5, 'Banana': 6, 'Papaya': 6, 'Pear': 4}"
      ]
     },
     "execution_count": 66,
     "metadata": {},
     "output_type": "execute_result"
    }
   ],
   "source": [
    "{k:len(k) for k in fruit}"
   ]
  },
  {
   "cell_type": "raw",
   "id": "bd9a9623",
   "metadata": {},
   "source": [
    "Q. Create above dictionary of those fruits only which end with 'a'"
   ]
  },
  {
   "cell_type": "code",
   "execution_count": 72,
   "id": "24fd13b2",
   "metadata": {},
   "outputs": [
    {
     "data": {
      "text/plain": [
       "{'Banana', 'Papaya'}"
      ]
     },
     "execution_count": 72,
     "metadata": {},
     "output_type": "execute_result"
    }
   ],
   "source": [
    "{k for k in fruit if k.endswith('a') }"
   ]
  },
  {
   "cell_type": "raw",
   "id": "4969286b",
   "metadata": {},
   "source": [
    "Q. create a dictionary where key is a fruit name and value is odd if length of the fruit name is odd else even"
   ]
  },
  {
   "cell_type": "code",
   "execution_count": 76,
   "id": "c45fa8f6",
   "metadata": {},
   "outputs": [
    {
     "data": {
      "text/plain": [
       "{'Apple': 'odd',\n",
       " 'Kiwi': 'Even',\n",
       " 'Mango': 'odd',\n",
       " 'Banana': 'Even',\n",
       " 'Papaya': 'Even',\n",
       " 'Pear': 'Even'}"
      ]
     },
     "execution_count": 76,
     "metadata": {},
     "output_type": "execute_result"
    }
   ],
   "source": [
    "{k: 'Even' if len(k)%2==0 else 'odd' for k in fruit }"
   ]
  },
  {
   "cell_type": "code",
   "execution_count": null,
   "id": "5cfd03b0",
   "metadata": {},
   "outputs": [],
   "source": [
    "Q [[1,2,3],[1,2,3],[1,2,3]]"
   ]
  },
  {
   "cell_type": "code",
   "execution_count": 12,
   "id": "7132b9eb",
   "metadata": {},
   "outputs": [
    {
     "data": {
      "text/plain": [
       "[[1, 2, 3], [1, 2, 3], [1, 2, 3]]"
      ]
     },
     "execution_count": 12,
     "metadata": {},
     "output_type": "execute_result"
    }
   ],
   "source": [
    "[[i for i in range(1,4)] for j in range(3)]"
   ]
  },
  {
   "cell_type": "code",
   "execution_count": 10,
   "id": "47f77f4e",
   "metadata": {},
   "outputs": [
    {
     "name": "stdout",
     "output_type": "stream",
     "text": [
      "1 a\n",
      "1 b\n",
      "1 c\n",
      "1 d\n",
      "2 a\n",
      "2 b\n",
      "2 c\n",
      "2 d\n"
     ]
    }
   ],
   "source": [
    "def codenum():\n",
    "    for numbers in '12':\n",
    "         for letters in 'abcd':\n",
    "            print(max(numbers),max(letters))\n",
    "codenum()"
   ]
  },
  {
   "cell_type": "code",
   "execution_count": null,
   "id": "17288223",
   "metadata": {},
   "outputs": [],
   "source": []
  }
 ],
 "metadata": {
  "kernelspec": {
   "display_name": "Python 3 (ipykernel)",
   "language": "python",
   "name": "python3"
  },
  "language_info": {
   "codemirror_mode": {
    "name": "ipython",
    "version": 3
   },
   "file_extension": ".py",
   "mimetype": "text/x-python",
   "name": "python",
   "nbconvert_exporter": "python",
   "pygments_lexer": "ipython3",
   "version": "3.11.5"
  }
 },
 "nbformat": 4,
 "nbformat_minor": 5
}
